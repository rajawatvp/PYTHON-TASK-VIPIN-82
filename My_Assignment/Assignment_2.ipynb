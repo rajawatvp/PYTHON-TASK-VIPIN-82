{
 "cells": [
  {
   "cell_type": "code",
   "execution_count": null,
   "id": "640305a5-3c2c-4f8b-a5c0-2901e01b5b5e",
   "metadata": {},
   "outputs": [],
   "source": [
    "# 1. Task: Calculate Profi t Percentage\n",
    "# ● Write a python program that takes input for the cost price and selling price of an item.\n",
    "# ● Hints\n",
    "# ○ Prompt the user to input the cost price and selling price.\n",
    "# ○ Determine whether the transaction resulted in a profi t or loss.\n",
    "# ○ If there is a profi t calculate the profi t percentage; if there is a loss calculate the loss percentage.\n",
    "# ○ Display the profi t or loss and the respective percentage."
   ]
  },
  {
   "cell_type": "code",
   "execution_count": 18,
   "id": "ccda24ad-4c00-4223-8399-7ec8c6bea1f9",
   "metadata": {},
   "outputs": [
    {
     "name": "stdin",
     "output_type": "stream",
     "text": [
      "Enter the cost price : 100\n",
      "Enter the selling price : 110\n"
     ]
    },
    {
     "name": "stdout",
     "output_type": "stream",
     "text": [
      "The profit percentage is 10.0\n"
     ]
    }
   ],
   "source": [
    "cost_price = int(input(\"Enter the cost price :\"))\n",
    "selling_price = int(input(\"Enter the selling price :\"))\n",
    "\n",
    "a = cost_price<selling_price\n",
    "b = cost_price>selling_price\n",
    "\n",
    "\n",
    "\n",
    "\n",
    "if a is True and b is not True:\n",
    "    profit = selling_price - cost_price\n",
    "    p_p = (profit*100)/cost_price\n",
    "    print(f'The profit percentage is {p_p}')\n",
    "\n",
    "if b is True and a is not True:\n",
    "    loss = cost_price - selling_price\n",
    "    l_p = (loss*100)/selling_price\n",
    "    print(f'The loss percentage is {l_p}')"
   ]
  },
  {
   "cell_type": "code",
   "execution_count": 19,
   "id": "458aea45-3457-4221-b084-e66e88f23eb9",
   "metadata": {},
   "outputs": [],
   "source": [
    "# 2. Task: Cricket Stats Analyzer\n",
    "# ● Objective: Write a program to analyze cricket stats for a team.\n",
    "# ● Hints:\n",
    "# ○ Prompt the user to input the runs scored by each of the five players in a cricket match.\n",
    "# ○ For each player (Player 1 to Player 5) ask the user to input the runs they scored.\n",
    "# ○ Calculate the total runs scored by all players and the average runs.\n",
    "# ○ Display the total runs and average runs to the user.\n"
   ]
  },
  {
   "cell_type": "code",
   "execution_count": 22,
   "id": "8515a7af-9ac6-4a67-b1b4-a1e5010c66f6",
   "metadata": {},
   "outputs": [
    {
     "name": "stdin",
     "output_type": "stream",
     "text": [
      "Enter the runs score by player 1:  46\n",
      "Enter the runs score by player 2:  76\n",
      "Enter the runs score by player 3:  87\n",
      "Enter the runs score by player 4:  56\n",
      "Enter the runs score by player 5:  78\n"
     ]
    },
    {
     "name": "stdout",
     "output_type": "stream",
     "text": [
      "The total runs score by the all five players are: 343 \n",
      "The average of the total run scoed in by the all five players are: 68.6\n"
     ]
    }
   ],
   "source": [
    "player_1 = int(input(\"Enter the runs score by player 1: \"))\n",
    "player_2 = int(input(\"Enter the runs score by player 2: \")) \n",
    "player_3 = int(input(\"Enter the runs score by player 3: \")) \n",
    "player_4 = int(input(\"Enter the runs score by player 4: \"))\n",
    "player_5 = int(input(\"Enter the runs score by player 5: \")) \n",
    "\n",
    "total_runs = player_1+player_2+player_3+player_4+player_5\n",
    "average_runs = (player_1+player_2+player_3+player_4+player_5)/5\n",
    "\n",
    "print(f\"The total runs score by the all five players are: {total_runs} \")\n",
    "print(f\"The average of the total run scoed in by the all five players are: {average_runs}\")"
   ]
  },
  {
   "cell_type": "code",
   "execution_count": 23,
   "id": "85915df5-7069-4530-8721-8963683c87b8",
   "metadata": {},
   "outputs": [],
   "source": [
    "# 3. Task: Retirement Age Calculator\n",
    "# ● Objective: Write a program that prompts the user for their age and tells them how many years until they reach retirement age (65).\n",
    "# ● Hints:\n",
    "# ○ Ask the user to input their age.\n",
    "# ○ Calculate how many more years they have until they reach 65 years of age.\n",
    "# ○ Display the number of years left until retirement or a message if the user has already reached retirement age."
   ]
  },
  {
   "cell_type": "code",
   "execution_count": 37,
   "id": "78de4de6-a099-4312-bd03-74597bc912a9",
   "metadata": {},
   "outputs": [
    {
     "name": "stdin",
     "output_type": "stream",
     "text": [
      "Enter the age:  75\n"
     ]
    },
    {
     "name": "stdout",
     "output_type": "stream",
     "text": [
      "You are Retired -10 years ago.\n"
     ]
    }
   ],
   "source": [
    "age = int(input(\"Enter the age: \"))\n",
    "service_remianing = 65 - age\n",
    "\n",
    "if age > 65 :\n",
    "    print(f\"You are Retired {service_remianing} years ago.\")\n",
    "    \n",
    "else:\n",
    "    print (f\"You have {service_remianing} years to retirement.\")\n",
    "    "
   ]
  },
  {
   "cell_type": "code",
   "execution_count": 38,
   "id": "39255a16-c888-463d-a082-a58bc2ac6ddf",
   "metadata": {},
   "outputs": [],
   "source": [
    "# 4. Task: Calculate the Area of a Circle\n",
    "# ● Objective: Write a program to calculate the area of a circle.\n",
    "# ● Hints:\n",
    "# ○ Ask the user to input the radius of the circle.\n",
    "# ○ Calculate the area of the circle using the formula: Area = π * radius^2.\n",
    "# ○ Display the calculated area"
   ]
  },
  {
   "cell_type": "code",
   "execution_count": 40,
   "id": "1207e215-ef9a-472b-bee9-811b35d4c520",
   "metadata": {},
   "outputs": [
    {
     "name": "stdin",
     "output_type": "stream",
     "text": [
      "Enter the radius of circle 2\n"
     ]
    },
    {
     "name": "stdout",
     "output_type": "stream",
     "text": [
      " The area of the circle is  12.56\n"
     ]
    }
   ],
   "source": [
    "radius = int(input(\"Enter the radius of circle\"))\n",
    "\n",
    "aoc = 3.14*(radius)**2\n",
    "\n",
    "print(\" The area of the circle is \", aoc)"
   ]
  },
  {
   "cell_type": "code",
   "execution_count": 41,
   "id": "93bd77f4-1963-49ae-a28a-232bbf583a0f",
   "metadata": {},
   "outputs": [],
   "source": [
    "# 5. Task: Salary Calculation\n",
    "# ● Objective: You have to calculate an employee's salary by computing the gross salary tax and net salary based on the given parameters.\n",
    "# ● Hints:\n",
    "# ○ Base Salary = ₹50000\n",
    "# ○ Bonus = ₹5000\n",
    "# ○ Tax Rate = 10%\n",
    "# ○ Other Charges = ₹2000\n",
    "# Display the Gross Salary Tax and Net Salary.\n"
   ]
  },
  {
   "cell_type": "code",
   "execution_count": 53,
   "id": "48eedd55-83ef-44bc-b6a7-0dd1342fba86",
   "metadata": {},
   "outputs": [
    {
     "name": "stdout",
     "output_type": "stream",
     "text": [
      "Your gross salary is: 50000\n",
      "and tax is: 5000.0 \n",
      "and Net salary is 38000.0 \n"
     ]
    }
   ],
   "source": [
    "base_salary = 50000\n",
    "tax = (base_salary*10)/100\n",
    "other_charges = 2000\n",
    "bonus = 5000\n",
    "\n",
    "gross_salary = base_salary\n",
    "tax_salary = (base_salary*10)/100\n",
    "total_deduction = tax+bonus+other_charges\n",
    "net_salary = gross_salary-total_deduction\n",
    "\n",
    "print(f\"Your gross salary is: {gross_salary}\\nand tax is: {tax_salary} \\nand Net salary is {net_salary} \")\n"
   ]
  },
  {
   "cell_type": "code",
   "execution_count": 54,
   "id": "791a9417-55f8-455e-b3f5-deb0fae9bf26",
   "metadata": {},
   "outputs": [],
   "source": [
    "# 6. Task: Bank Loan Approval System\n",
    "# ● Objective: You have to create a python programe that checks whether an user is eligible for a bank loan based on various criteria.\n",
    "# ● Hints:\n",
    "# ○ The applicant's age must be between 18 and 60 years.\n",
    "# ○ The applicant's monthly income must be greater than or equal to ₹25000.\n",
    "# ○ The applicant's credit score must be greater than or equal to 700.\n",
    "# ○ The applicant must not have any outstanding debts greater than ₹10000\n",
    "# 1. Output:\n",
    "# ○ Display \"Loan Approved\" if the applicant meets all the conditions.\n",
    "# ○ Otherwise display \"Loan Rejected\"."
   ]
  },
  {
   "cell_type": "code",
   "execution_count": 10,
   "id": "1c172bd9-acde-4489-92cc-49cde95e3a3b",
   "metadata": {},
   "outputs": [
    {
     "name": "stdin",
     "output_type": "stream",
     "text": [
      "Enter the age:  45\n",
      "Enter the monthly income:  566565\n",
      "Enter the credit score:  789\n",
      "Enter the outstanding debt balance:  40000\n"
     ]
    },
    {
     "name": "stdout",
     "output_type": "stream",
     "text": [
      "You are not eligible for loan\n"
     ]
    }
   ],
   "source": [
    "age = int(input(\"Enter the age: \"))\n",
    "mo_inc = int(input(\"Enter the monthly income: \"))\n",
    "cr_scr = int(input(\"Enter the credit score: \"))\n",
    "out_debt = int(input(\"Enter the outstanding debt balance: \"))\n",
    "\n",
    "if age >18 and age<60 and mo_inc >=25000 and cr_scr >= 700 and out_debt <10000:\n",
    "    print(f\"Congratulations! Loan Approved\")\n",
    "    \n",
    "else:\n",
    "    print(f\"Loan Rejected\")\n"
   ]
  },
  {
   "cell_type": "code",
   "execution_count": 11,
   "id": "864c2e7b-f45f-41bb-ab9a-335cb8a668d1",
   "metadata": {},
   "outputs": [],
   "source": [
    "# 7. Task: Students Interview Eligibility Checker\n",
    "# ● Objective:you have to write a python program that checks whether a student is eligible for an interview based on their academic score attendance percentage and extracurricular participation.\n",
    "# ● Input:\n",
    "# ○ Academic Score (percentage): A floating-point number representing the student's academic score. Ex .78.88\n",
    "# ○ Attendance Percentage: A floating-point number representing the student's attendance percentage. Ex.85.88\n",
    "# ○ Extracurricular Participation: This indicates whether the student has participated in any extracurricular activities. Ex.Yes/no\n",
    "# Conditions for Interview Eligibility:\n",
    "# 1. The student’s academic score must be 60 or above.\n",
    "# 2. The student’s attendance percentage must be 75 or above.\n",
    "# 3. The student should have participated in at least one extracurricular activity.\n",
    "# Output:\n",
    "# ● If the student meets all three conditions print \"Eligible for Interview\".\n",
    "# ● If the student fails to meet any of the conditions print \"Not Eligible for Interview\".\n"
   ]
  },
  {
   "cell_type": "code",
   "execution_count": 6,
   "id": "08324d51-2bed-4e6d-88ca-d5ba5e398b76",
   "metadata": {},
   "outputs": [
    {
     "name": "stdin",
     "output_type": "stream",
     "text": [
      "Enter the academic score:  98\n",
      "Enter the attendence percentage:  98\n",
      "Enter yes or no:  y\n"
     ]
    },
    {
     "name": "stdout",
     "output_type": "stream",
     "text": [
      "Not Eligible for Interview\n"
     ]
    }
   ],
   "source": [
    "academic_score = float(input(\"Enter the academic score: \"))\n",
    "attendence_perc = float(input(\"Enter the attendence percentage: \"))\n",
    "extra_carriculam_activity = (input(\"Enter yes or no: \"))\n",
    "\n",
    "extra_carriculam_activity = extra_carriculam_activity.lower()\n",
    "if academic_score>=60 and attendence_perc >75 and extra_carriculam_activity == \"yes\":\n",
    "    print(\"Eligible for Interview\")\n",
    "\n",
    "else:\n",
    "    print(\"Not Eligible for Interview\")\n",
    "\n"
   ]
  },
  {
   "cell_type": "code",
   "execution_count": 1,
   "id": "b6f74c44-153c-46ee-80d5-9f64ddd1cca4",
   "metadata": {},
   "outputs": [],
   "source": [
    "# 8. Task: Validating Email Domain\n",
    "# ● Objective: You will implement a python program to validate the domain of a user's email address. The program will check if the email contains a specifi c domain (e.g. \"gmail.com\").\n",
    "# Problem Statement: You are building a registration system that only accepts email addresses from a certain domain (e.g. \"gmail.com\"). Your task is to:\n",
    "# 1. Prompt the user to enter their email address.\n",
    "# 2. Check if the entered email address contains the domain \"gmail.com\".\n",
    "# 3. Display whether the email is eligible for registration based on the domain check.\n",
    "# 4. Print a message to inform the user if their email is eligible for registration or not.\n"
   ]
  },
  {
   "cell_type": "code",
   "execution_count": 14,
   "id": "834d8455-e171-475b-aa39-e8bfc9e586d4",
   "metadata": {},
   "outputs": [
    {
     "name": "stdin",
     "output_type": "stream",
     "text": [
      "Enter the email address:  akjghkahdk@gmail.COm\n"
     ]
    },
    {
     "name": "stdout",
     "output_type": "stream",
     "text": [
      "Eligible for Registration\n"
     ]
    }
   ],
   "source": [
    "email = input(\"Enter the email address: \").lower()\n",
    "\n",
    "string = 'gmail.com'\n",
    "if string in email :\n",
    "    \n",
    "   print(\"Eligible for Registration\")\n",
    "\n",
    "else:\n",
    "    print(\"Not Eligible for Registration\")"
   ]
  },
  {
   "cell_type": "code",
   "execution_count": 15,
   "id": "bda44261-895c-4b0e-b4de-9dc05ce99dd3",
   "metadata": {},
   "outputs": [],
   "source": [
    "# Task 9: Employee Access Level System\n",
    "# Objective: You are building a security system for a corporate office where employees are assigned different access levels:\n",
    "# ● Admin Access\n",
    "# ● Staff Access\n",
    "# ● Visitor Access\n",
    "# Scenario: The system must check whether two employees have been assigned exactly the same access level object in the system. \n",
    "# This is important to avoid mistakenly duplicating access levels in memory or logic.\n",
    "# Instructions:\n",
    "# 1. ADMIN = \"admin\"\n",
    "# 2. STAFF = \"staff\"\n",
    "# 3. VISITOR = \"visitor\"\n",
    "# ● Assign access levels to two employees using these predefinedconstants.\n",
    "# ● Display:\n",
    "# ○ \"Both employees have the same access level object.\" if they point to the same object.\n",
    "# ○ \"Employees have different access level objects.\" otherwise."
   ]
  },
  {
   "cell_type": "code",
   "execution_count": 17,
   "id": "1a5dbdd8-ad32-4ed3-9945-e28c5356fac3",
   "metadata": {},
   "outputs": [
    {
     "name": "stdin",
     "output_type": "stream",
     "text": [
      "Enter access level for employee 1 (admin/staff/visitor):  staff\n",
      "Enter access level for employee 2 (admin/staff/visitor):  staff\n"
     ]
    },
    {
     "name": "stdout",
     "output_type": "stream",
     "text": [
      "Both employees have the same access level object.\n"
     ]
    }
   ],
   "source": [
    "ADMIN = \"admin\"\n",
    "STAFF = \"staff\"\n",
    "VISITOR = \"visitor\"\n",
    "\n",
    "employee1_access = input(\"Enter access level for employee 1 (admin/staff/visitor): \").lower()\n",
    "employee2_access = input(\"Enter access level for employee 2 (admin/staff/visitor): \").lower()\n",
    "\n",
    "if employee1_access == employee2_access:\n",
    "    print(\"Both employees have the same access level object.\")\n",
    "elif employee1_access != employee2_access:\n",
    "    print(\"Employees have different access level objects.\")\n",
    "else:\n",
    "    print(\"Error: Invalid access level.\")\n"
   ]
  },
  {
   "cell_type": "code",
   "execution_count": 16,
   "id": "b7944e4c-ab09-4ade-b397-56430b96614c",
   "metadata": {},
   "outputs": [],
   "source": [
    "# 10.Task : Student Grading System\n",
    "# Create a javascript program to calculate a student's grade based on their marks.\n",
    "# Task:\n",
    "# 1. Input: Prompt the user to enter their marks.\n",
    "# 2. Criteria:\n",
    "# ○ Grade A: 90–100\n",
    "# ○ Grade B: 80–89\n",
    "# ○ Grade C: 70–79\n",
    "# ○ Grade D: 60–69\n",
    "# ○ Grade E: 50–59\n",
    "# ○ Grade F: 0–49\n",
    "# ○ Invalid marks: Outside the range 0–100.\n",
    "# 3. Output: Display the grade or an error message for invalid marks.\n",
    "# Example Outputs:\n",
    "# ● Marks: 85 → Grade: B\n",
    "# ● Marks: 45 → Grade: F\n",
    "# ● Marks: 105 → Invalid marks.\n"
   ]
  },
  {
   "cell_type": "code",
   "execution_count": 32,
   "id": "030780b4-381d-4e78-a57f-c80ca2f1746d",
   "metadata": {},
   "outputs": [
    {
     "name": "stdin",
     "output_type": "stream",
     "text": [
      "Enter the marks you obtain: 456\n"
     ]
    },
    {
     "name": "stdout",
     "output_type": "stream",
     "text": [
      "Invalid marks\n"
     ]
    }
   ],
   "source": [
    "max_marks = 100\n",
    "marks = int(input(\"Enter the marks you obtain:\"))\n",
    "\n",
    "if marks >=90 and marks<=100:\n",
    "    print(\"Grade A\")\n",
    "elif marks >=80 and marks <=89:\n",
    "    print(\"Grade B\")\n",
    "elif marks >=70 and marks <=79:   \n",
    "    print(\"Grade C\")\n",
    "\n",
    "elif marks >=60 and marks <=69:   \n",
    "    print(\"Grade D\")\n",
    "\n",
    "elif marks >=50 and marks <=59: \n",
    "    print(\"Grade E\")\n",
    "\n",
    "elif marks >=40 and marks <=49: \n",
    "    print(\"Grade F\")\n",
    "\n",
    "else: \n",
    "    print(\"Invalid marks\")"
   ]
  },
  {
   "cell_type": "code",
   "execution_count": 33,
   "id": "5ea007b8-d268-4562-aa4e-4573f2280036",
   "metadata": {},
   "outputs": [],
   "source": [
    "# 11.Task : Authentication System.\n",
    "# Write a Python program that authenticates a user by checking their username and password.\n",
    "# The program should compare the entered credentials with predefined valid credentials.\n",
    "# ● Predefined valid usernames and corresponding passwords\n",
    "# username1 = \"user1\"\n",
    "# username1_password1 = \"pass@123\"\n",
    "# Instructions:\n",
    "# 1. Input:\n",
    "# ○ Prompt the user to input their username and password.\n",
    "# 2. Processing:\n",
    "# ○ Check if the username and password match\n",
    "# 3. Output:\n",
    "# ○ If both the username and password match the predefined valid credentials display \"Authentication successful.\"\n",
    "# ○ If either the username or the password does not match display \"Authentication failed.\""
   ]
  },
  {
   "cell_type": "code",
   "execution_count": 43,
   "id": "755e616a-3deb-40c8-807a-6061c81bf6b0",
   "metadata": {},
   "outputs": [
    {
     "name": "stdin",
     "output_type": "stream",
     "text": [
      "Enter the Username: ewr\n",
      "Enter your Password twe\n"
     ]
    },
    {
     "name": "stdout",
     "output_type": "stream",
     "text": [
      "Authentication failed\n"
     ]
    }
   ],
   "source": [
    "username1 = \"user1\"\n",
    "username1_password1 = \"pass@123\"\n",
    "\n",
    "username = input(\"Enter the Username:\")\n",
    "password = input(\"Enter your Password\")\n",
    "\n",
    "if username == username1:\n",
    "    if password == username1_password1:\n",
    "        print(\"Authentication successful\")\n",
    "    else:\n",
    "        print(\"Authentication failed\")\n",
    "else:\n",
    "    print(\"Authentication failed\")"
   ]
  },
  {
   "cell_type": "code",
   "execution_count": 2,
   "id": "be847ad5-2787-414b-9601-dc1edd38579a",
   "metadata": {},
   "outputs": [],
   "source": [
    "# 12.Employee Salary Based on Experience. \n",
    "#You are building a system for a Human Resources (HR) department that calculates an employee's salary based on their years of experience. \n",
    "#The system assigns salary tiers based on the number of years an employee has been working. \n",
    "#It also offers bonuses for employees who have more than 15 years of experience. Scenario Breakdown:\n",
    "\n",
    "# Context 1: Senior Employee\n",
    "# ● An employee with 10 or more years of experience is classified as a Senior Employee.\n",
    "# The base salary for such an employee is 80000.\n",
    "# ● If the employee has more than 15 years of experience they receive a bonus of 5000 to their salary.\n",
    "# Example: An employee with 18 years of experience:\n",
    "# ● They are classified as Senior Employees.\n",
    "# ● Their base salary is 80000.\n",
    "# ● Since they have more than 15 years of experience they receive an additional 5000 bonus.\n",
    "# ● The final salary is 85000.\n",
    "\n",
    "\n",
    "# Context 2: Mid-Level Employee\n",
    "# ● Employees with 5 to 9 years of experience are classified as Mid-Level Employees.\n",
    "# ● Their base salary is 50000 with no bonus.\n",
    "# Example: An employee with 7 years of experience:\n",
    "# ● They are classified as a Mid-Level Employee.\n",
    "# ● Their base salary is 50000.\n",
    "# ● Since they have fewer than 10 years of experience no bonus is added.\n",
    "# ● The final salary is 50000.\n",
    "\n",
    "\n",
    "# Context 3: Junior Employee\n",
    "# ● Employees with less than 5 years of experience are classified as Junior Employees.\n",
    "# ● Their base salary is 30000 with no bonus.\n",
    "# Example: An employee with 3 years of experience:\n",
    "# ● They are classified as Junior Employees.\n",
    "# ● Their base salary is 30000.\n",
    "# ● No bonus is added.\n",
    "# ● The final salary is 30000.\n",
    "\n",
    "\n",
    "# Output Examples: Senior Employee with 18 years of experience: Enter years of experience: 18 Senior employee Experience exceeds 15 years. Bonus added. Salary: 85000\n",
    "# Mid-Level Employee with 7 years of experience: Enter years of experience: 7 Mid-level employee Salary: 50000 Junior Employee with 3 years of experience: Enter years of experience: 3 Junior employee Salary: 30000"
   ]
  },
  {
   "cell_type": "code",
   "execution_count": 11,
   "id": "81f60cc4-85e3-4ed4-89fc-ecc5e187af0e",
   "metadata": {},
   "outputs": [
    {
     "name": "stdin",
     "output_type": "stream",
     "text": [
      "Enter years of Experience 7\n"
     ]
    },
    {
     "name": "stdout",
     "output_type": "stream",
     "text": [
      "Mid-Level Employee \n",
      "Since they have fewer than 10 years of experience no bonus is added \n",
      "Their final salary will be: 50000\n"
     ]
    }
   ],
   "source": [
    "experience = int(input(\"Enter years of Experience\"))\n",
    "\n",
    "base_salary1 = 80000 \n",
    "bonus1 = 5000\n",
    "salary1 = base_salary1+bonus1\n",
    "\n",
    "base_salary2 = 50000\n",
    "\n",
    "base_salary3 = 30000\n",
    "\n",
    "if experience >= 15 :\n",
    "    print(f\"Senior Employe \\nTheir base salary is: {base_salary1} \\nTheir additional Bonus is: {bonus1} \\nFinal salary of this employee will be: {salary1}\")\n",
    "\n",
    "else:\n",
    "    if experience <15 or experience >=10:\n",
    "        if experience >=5 and experience <=9:         \n",
    "            print(f\"Mid-Level Employee \\nSince they have fewer than 10 years of experience no bonus is added \\nTheir final salary will be: {base_salary2}\")\n",
    "        else:\n",
    "            if experience <5:\n",
    "                print(f\"Junior Employee \\nTheir final salary will be: {base_salary3} \")"
   ]
  },
  {
   "cell_type": "code",
   "execution_count": null,
   "id": "bb8aade8-6362-4f37-a69f-0aa09b4f2bd5",
   "metadata": {},
   "outputs": [],
   "source": [
    "# 13. Library Charge Calculation\n",
    "# Problem Statement: Write a javascript program that calculates the library charge based on the number of days a book has been borrowed.\n",
    "# Charge Criteria:\n",
    "# ● Up to 5 days: Rs. 2 per day\n",
    "# ● 6 to 10 days: Rs. 3 per day\n",
    "# ● 11 to 15 days: Rs. 4 per day\n",
    "# ● More than 15 days: Rs. 5 per day\n",
    "# Instructions:\n",
    "# 1. Input: Prompt the user to enter the number of days the book has been borrowed.\n",
    "# 2. Processing: Calculate the charge based on the given criteria.\n",
    "# 3. Output: Display the calculated charge.\n",
    "\n",
    "days = int(input(\"Enter the number of days you borrow the book \"))\n",
    "\n",
    "\n",
    "if days <= 5:\n",
    "    charge = days*2\n",
    "    print(f\"You have to pay Ruppes {charge} for this book \\nFor {days} days\")\n",
    "\n",
    "elif days>5 and days <=10:\n",
    "    charge = 10 + (days-5)*3\n",
    "    print(f\"You have to pay Ruppes {charge} for this book \\nFor {days} days\")\n",
    "\n",
    "elif days>10 and days<=15: \n",
    "    charge =25 + (days-10)*4\n",
    "    print(f\"You have to pay Ruppes {charge} for this book \\nFor {days} days\")\n",
    "\n",
    "else:\n",
    "    days >15\n",
    "    charge =45 + (days-15)*5\n",
    "    print(f\"You have to pay Ruppes {charge} for this book \\nFor {days} days\")\n"
   ]
  },
  {
   "cell_type": "code",
   "execution_count": null,
   "id": "151a4a74-4f0a-411f-bc9e-ad552b125b7c",
   "metadata": {},
   "outputs": [],
   "source": [
    "### 14. Arranging Three Numbers in Descending Order\n",
    "\n",
    "# Task: Write a Python program to arrange three numbers in descending order.\n",
    "# Input: Prompt the user to enter three numbers.\n",
    "# Processing: Sort the numbers in descending order.\n",
    "# Example:\n",
    "# ● Enter first number: 3\n",
    "# ● Enter second number: 1\n",
    "# ● Enter third number: 2\n",
    "# Output:\n",
    "# ● Numbers in Descending Order: 3, 2, 1\n",
    "\n",
    "\n",
    "num1 = int(input(\"Enter the first number :\"))\n",
    "num2 = int(input(\"Enter the second number :\"))\n",
    "num3 = int(input(\"Enter the three number :\"))\n",
    "\n",
    "if num1 > num2:\n",
    "\n",
    "elif num2 > num3: \n",
    "    print(f\"number {} \")\n"
   ]
  },
  {
   "cell_type": "code",
   "execution_count": 2,
   "id": "42835112-84e9-46c8-8509-2c0b087981c4",
   "metadata": {},
   "outputs": [
    {
     "name": "stdin",
     "output_type": "stream",
     "text": [
      "Enetr the number1 98\n",
      "Enetr the number1 12\n",
      "Enetr the number1 987\n"
     ]
    },
    {
     "name": "stdout",
     "output_type": "stream",
     "text": [
      "987 98 12\n"
     ]
    }
   ],
   "source": [
    "# 14. Arranging Three Numbers in Descending Order\n",
    "# Task: Write a python program to arrange three numbers in descending order.\n",
    "# Input: Prompt the user to enter three numbers.\n",
    "# Processing: Sort the numbers in descending order.\n",
    "# Example:\n",
    "# ● Enter first number: 3\n",
    "# ● Enter second number: 1\n",
    "# ● Enter third number: 2\n",
    "# Output:\n",
    "# ● Numbers in Descending Order: 3, 2, 1\n",
    "\n",
    "\n",
    "a=int(input(\"Enetr the number1\"))\n",
    "b=int(input(\"Enetr the number1\"))\n",
    "c=int(input(\"Enetr the number1\"))\n",
    "\n",
    "if a>b and a>c:\n",
    "    if b>c: \n",
    "        print (a,b,c)\n",
    "    else: \n",
    "        print(a,c,b)\n",
    "\n",
    "elif b>c and b>a:\n",
    "    if c>a:\n",
    "        print(b,c,a)\n",
    "    else:\n",
    "        print(b,a,c)\n",
    "else:\n",
    "    if a>b:\n",
    "        print(c,a,b)\n",
    "    else:\n",
    "        print(c,b,a)\n",
    "        \n",
    "        "
   ]
  },
  {
   "cell_type": "code",
   "execution_count": 12,
   "id": "33bac2a7-348c-48fc-bd76-36bb17af9587",
   "metadata": {},
   "outputs": [
    {
     "name": "stdin",
     "output_type": "stream",
     "text": [
      "Enter the car brand mercedes\n",
      "Enter the Price of Car:  1500000\n"
     ]
    },
    {
     "name": "stdout",
     "output_type": "stream",
     "text": [
      "This Brand does not have any CAR under this price\n"
     ]
    }
   ],
   "source": [
    "# 15. Tax Calculation for Car Purchase\n",
    "# Write a program to calculate the tax on a car purchase based on the car brand and its price.\n",
    "# 1. Mahindra: 5% tax for prices between 7L (7 lakh) and 10L.\n",
    "# 2. Audi: 10% tax for prices between 10L and 15L.\n",
    "# 3. Jaguar: 25% tax for prices between 15L and 20L.\n",
    "# 4. Mercedes: 30% tax for prices between 20L and 25L.\n",
    "# 5. Input: The car brand and price.\n",
    "# 6. Output: The calculated tax on the purchase.\n",
    "\n",
    "car_brand= input(\"Enter the car brand\").lower()\n",
    "price = int(input(\"Enter the Price of Car: \"))\n",
    "\n",
    "tax_mahindra = (price*5)/100\n",
    "tax_audi = (price*10)/100\n",
    "jaguar = (price*25)/100\n",
    "mercedes = (price*30)/100\n",
    "\n",
    "if car_brand == \"mahindra\" : \n",
    "    if price>=700000 and price<1000000:\n",
    "        print(f\"The tax you have to pay for this car will be: {tax_mahindra}\")\n",
    "\n",
    "    else:\n",
    "        print(f\"No cars available under this price\")\n",
    "\n",
    "elif car_brand == \"audi\": \n",
    "    if price>=1000000 and price<1500000:\n",
    "        print(f\"The tax you have to pay for this car will be: {tax_audi}\")\n",
    "    else: \n",
    "        print(f\"This Brand does not have any CAR under this price\")\n",
    "        \n",
    "elif car_brand == \"jaguar\" : \n",
    "    if price>=1500000 and price<2000000:\n",
    "        print(f\"The tax you have to pay for this car will be: {jaguar}\")\n",
    "    else: \n",
    "        print(f\"This Brand does not have any CAR under this price\")\n",
    "\n",
    "elif car_brand == \"mercedes\": \n",
    "    if price>=2000000 and price<2500000:\n",
    "        print(f\"The tax you have to pay for this car will be: {mercedes}\")\n",
    "    else: \n",
    "        print(f\"This Brand does not have any CAR under this price\")\n",
    "\n",
    "else: \n",
    "    print(f\"This Brand does not have any CAR under this price\")\n",
    "        \n",
    "    "
   ]
  },
  {
   "cell_type": "code",
   "execution_count": 18,
   "id": "ed8a5700-f221-42eb-8be7-f52e78f660f7",
   "metadata": {},
   "outputs": [
    {
     "name": "stdin",
     "output_type": "stream",
     "text": [
      "Enter a number:  587\n"
     ]
    },
    {
     "name": "stdout",
     "output_type": "stream",
     "text": [
      "8\n"
     ]
    }
   ],
   "source": [
    "# 16.Finding the Middle Number\n",
    "# ○ Task: Write a program to determine the middle number among three inputs.\n",
    "# ○ Input: Prompt the user to enter three numbers.\n",
    "# ○ Processing: Identify the middle number, which is neither the largest nor the smallest.\n",
    "# ○ Output: Display the middle number.\n",
    "\n",
    "\n",
    "num = int(input(\"Enter a number: \"))\n",
    "middle_digit = (num // 10) % 10\n",
    "print(middle_digit)\n"
   ]
  },
  {
   "cell_type": "code",
   "execution_count": 21,
   "id": "70230f35-b92d-4085-a992-b86de46468e6",
   "metadata": {},
   "outputs": [
    {
     "name": "stdin",
     "output_type": "stream",
     "text": [
      "Enter a 3-digit number:  489\n"
     ]
    },
    {
     "name": "stdout",
     "output_type": "stream",
     "text": [
      "9\n"
     ]
    }
   ],
   "source": [
    "# 17.Find the greatest number.\n",
    "# ○ Task: Write a program to find greatest number from three number\n",
    "# ○ Input: Prompt the user to enter three numbers.\n",
    "# ○ Output: Display the greatest number.\n",
    "\n",
    "num = int(input(\"Enter a 3-digit number: \"))\n",
    "\n",
    "a = num // 100          # First digit\n",
    "b = (num // 10) % 10    # Middle digit\n",
    "c = num % 10            # Last digit\n",
    "\n",
    "if a >= b and a >= c:\n",
    "    print(a)\n",
    "elif b >= a and b >= c:\n",
    "    print(b)\n",
    "else:\n",
    "    print(c)\n"
   ]
  },
  {
   "cell_type": "code",
   "execution_count": 29,
   "id": "01383a99-7f15-4812-bd24-38ea05223bb7",
   "metadata": {},
   "outputs": [
    {
     "name": "stdin",
     "output_type": "stream",
     "text": [
      "Enter the Username:  user1\n",
      "Enter the Password:  pass@1234\n"
     ]
    },
    {
     "name": "stdout",
     "output_type": "stream",
     "text": [
      "You have entered wrong password \n",
      "Authentication failed\n"
     ]
    }
   ],
   "source": [
    "# 18.Authentication System\n",
    "# ○ Task: Write a program to authenticate a user by validating their username and password.\n",
    "# ○ Predefined Credentials:\n",
    "# ■ Username: user1\n",
    "# ■ Password: pass@123\n",
    "# ○ Input: Prompt the user to input their username and password.\n",
    "# ○ Output:\n",
    "# ■ If the credentials match, display \"Authentication successful.\"\n",
    "# ■ If they do not match, display \"Authentication failed.\"\n",
    "\n",
    "Username = \"user1\"\n",
    "Password = \"pass@123\"\n",
    "\n",
    "u_name =input(\"Enter the Username: \")\n",
    "pswd = input(\"Enter the Password: \")\n",
    "\n",
    "if u_name == \"user1\": \n",
    "    if pswd == \"pass@123\":\n",
    "        print(\"Authentication successful\")\n",
    "    else:\n",
    "        print(\"You have entered wrong password \\nAuthentication failed\")\n",
    "\n",
    "else: \n",
    "    print(\"Authentication failed  \")\n"
   ]
  },
  {
   "cell_type": "code",
   "execution_count": null,
   "id": "fab58107-37b7-4f4b-8cbe-96109ada12d4",
   "metadata": {},
   "outputs": [],
   "source": [
    "# 19.Calculate Class Attendance Percentage\n",
    "# ○ Task: Write a program to calculate the percentage of classes attended by a student and determine their eligibility to sit in the exam.\n",
    "# ○ Conditions:\n",
    "# ■ Attendance percentage < 75%: .Not eligible to sit in the exam\n",
    "# ■ Attendance percentage ≥ 75%: Eligible to sit in the exam.\n",
    "# ○ Output: Display the attendance percentage and eligibility status.\n",
    "\n",
    "\n",
    "attendence_percentage = int(input(\"Enter the % of Attendence: \"))\n",
    "\n",
    "if attendence_percentage <75:\n",
    "    \n",
    "    print(f\"Your Attendence % is {attendence_percentage} You are Not eligible to sit in the exam.\")\n",
    "\n",
    "elif attendence_percentage>=75: \n",
    "    print(f\"Your Attendence % is {attendence_percentage} You are Eligible to sit in the exam.\")\n",
    "else: \n",
    "    print(\"Eligible to sit in the exam\")\n",
    "    "
   ]
  },
  {
   "cell_type": "code",
   "execution_count": 1,
   "id": "979e265b-e42a-4e57-a90e-eee6fa47f96d",
   "metadata": {},
   "outputs": [
    {
     "name": "stdin",
     "output_type": "stream",
     "text": [
      "Enter the number of days you borrow the book  7\n"
     ]
    },
    {
     "name": "stdout",
     "output_type": "stream",
     "text": [
      "You have to pay Ruppes 16 for this book \n",
      "For 7 days\n"
     ]
    }
   ],
   "source": [
    "# 20.Library Charge Calculation\n",
    "# ○ Task: Write a program to calculate the library charges based on the number of days a book has been borrowed.\n",
    "# ○ Charge Criteria:\n",
    "# ■ Up to 5 days: ₹2/day.\n",
    "# ■ 6 to 10 days: ₹3/day.\n",
    "# ■ 11 to 15 days: ₹4/day.\n",
    "# ■ More than 15 days: ₹5/day.\n",
    "# ○ Output: Display the total charges.\n",
    "\n",
    "\n",
    "days = int(input(\"Enter the number of days you borrow the book \"))\n",
    "\n",
    "\n",
    "if days <= 5:\n",
    "    charge = days*2\n",
    "    print(f\"You have to pay Ruppes {charge} for this book \\nFor {days} days\")\n",
    "\n",
    "elif days>5 and days <=10:\n",
    "    charge = 10 + (days-5)*3\n",
    "    print(f\"You have to pay Ruppes {charge} for this book \\nFor {days} days\")\n",
    "\n",
    "elif days>10 and days<=15: \n",
    "    charge =25 + (days-10)*4\n",
    "    print(f\"You have to pay Ruppes {charge} for this book \\nFor {days} days\")\n",
    "\n",
    "else:\n",
    "    days >15\n",
    "    charge =45 + (days-15)*5\n",
    "    print(f\"You have to pay Ruppes {charge} for this book \\nFor {days} days\")\n"
   ]
  },
  {
   "cell_type": "code",
   "execution_count": 3,
   "id": "10525cb9-5fe3-4315-ae61-c5250070807d",
   "metadata": {},
   "outputs": [
    {
     "name": "stdin",
     "output_type": "stream",
     "text": [
      "Apni age enter karein:  24\n",
      "Apni highest qualification enter karein:  12th\n",
      "Apni nationality enter karein:  indian\n"
     ]
    },
    {
     "name": "stdout",
     "output_type": "stream",
     "text": [
      "\n",
      " NOT ELIGIBLE FOR PRE EXAM \n",
      "You must be an graduate.\n",
      "\n"
     ]
    }
   ],
   "source": [
    "# 21.UPSC Selection Process\n",
    "# ○ Task: Simulate the UPSC selection process with the following steps:\n",
    "# 1. Eligibility Check\n",
    "# ■ Criteria:\n",
    "# ■ Age: 21–32 years.\n",
    "# ■ Graduate status: Must be a graduate.\n",
    "# ■ Nationality: Must be \"Indian\".\n",
    "# ■ Output:\n",
    "# ■ If eligible, proceed to Prelims.\n",
    "# ■ If ineligible, display the reason for ineligibility.\n",
    "# 2. Prelims Exam\n",
    "# ■ Processing: Check if the candidate’s score ≥ cut-off.\n",
    "# ■ Output:\n",
    "# ■ If passed, proceed to Mains.\n",
    "# ■ If failed, display \"You failed the Prelims.\"\n",
    "# 3. Mains Exam\n",
    "# ■ Processing: Check if the candidate’s score ≥ cut-off.\n",
    "# ■ Output:\n",
    "# ■ If passed, proceed to Interview.\n",
    "# ■ If failed, display \"You failed the Mains.\"\n",
    "# 4. Interview\n",
    "# ■ Processing: Check if the candidate’s score ≥ cut-off.\n",
    "# ■ Output:\n",
    "# ■ If passed, display \"Congratulations! You have cleared the UPSC.\"\n",
    "# ■ If failed, display \"You failed the Interview.\"\n",
    "# ○ Final Output: Use nested conditional statements to simulate the entire process.\n",
    "\n",
    "# Step 1: Eligibility Check\n",
    "age = int(input(\"Apni age enter karein: \"))\n",
    "qualification = input(\"Apni highest qualification enter karein: \").lower()\n",
    "nationality = input(\"Apni nationality enter karein: \").lower()\n",
    "\n",
    "eligible = True\n",
    "reason = \"\"\n",
    "\n",
    "# Age check\n",
    "if not (21 <= age <= 32):\n",
    "    eligible = False\n",
    "    reason += \"Age must be between 21 to 32.\\n\"\n",
    "\n",
    "# Qualification check\n",
    "if qualification != \"graduate\":\n",
    "    eligible = False\n",
    "    reason += \"You must be an graduate.\\n\"\n",
    "\n",
    "# Nationality check\n",
    "if nationality != \"indian\":\n",
    "    eligible = False\n",
    "    reason += \"You must be an Indian.\\n\"\n",
    "\n",
    "# Eligibility Result\n",
    "if not eligible:\n",
    "    print(\"\\n NOT ELIGIBLE FOR PRE EXAM \")\n",
    "    print(reason)\n",
    "else:\n",
    "    print(\"\\n You are Eligible to appear in the Prelims Exam.\")\n",
    "\n",
    "    # Step 2: Pre Exam\n",
    "    pre_marks = int(input(\"\\nEnter your Pre Marks Obtain (out of 400): \"))\n",
    "    if pre_marks >= 230:\n",
    "        print(\"You are qualified in PreLims Exam.\")\n",
    "\n",
    "        # Step 3: Mains Exam\n",
    "        mains_marks = int(input(\"\\nEnter your Mains Marks Obtain (out of 800): \"))\n",
    "        if mains_marks >= 480:\n",
    "            print(\"You are qualified in Mains Exam.\")\n",
    "\n",
    "            # Step 4: Interview\n",
    "            interview_marks = int(input(\"\\nEnter your Interview Marks (out of 170): \"))\n",
    "            if interview_marks >= 120:\n",
    "                print(\"\\nCongratulations! You have cleared the UPSC.\")\n",
    "            else:\n",
    "                print(\"You failed the Interview.\")\n",
    "        else:\n",
    "            print(\"You failed the Mains.\")\n",
    "    else:\n",
    "        print(\"You failed the Prelims.\")\n"
   ]
  },
  {
   "cell_type": "code",
   "execution_count": 4,
   "id": "c0ca4cd5-60dc-435f-b3eb-28b13a455d60",
   "metadata": {},
   "outputs": [
    {
     "name": "stdout",
     "output_type": "stream",
     "text": [
      "Login Menu -----\n",
      "1. Login with Phone\n",
      "2. Login with Email\n",
      "3. Exit the system\n"
     ]
    },
    {
     "name": "stdin",
     "output_type": "stream",
     "text": [
      "Enter your choice (1/2/3):  2\n",
      "Enter your email:  user@example.com\n",
      "Enter your password:  password123\n"
     ]
    },
    {
     "name": "stdout",
     "output_type": "stream",
     "text": [
      "Login successful with email!\n"
     ]
    }
   ],
   "source": [
    "# 22. Menu-Driven Login System\n",
    "# 1. Create the Menu:\n",
    "# ○ Display a menu with three choices for the user:\n",
    "# ■ Login with Phone\n",
    "# ■ Login with Email\n",
    "# ■ Exit the system\n",
    "# 2. Predefined Credentials:\n",
    "# ○ Phone number: \"1234567890\"\n",
    "# ○ OTP: \"1234\"\n",
    "# ○ Email: \"user@example.com\"\n",
    "# ○ Password: \"password123”\n",
    "# 3. Login Functionality:\n",
    "# ○ Option 1 (Login with Phone):\n",
    "# ■ Prompt the user to enter their phone number and OTP.\n",
    "# ■ Compare the input with a predefined phone number and OTP.\n",
    "# ■ Display success if both match or an error message if they don’t.\n",
    "# ○ Option 2 (Login with Email):\n",
    "# ■ Prompt the user to enter their email and password.\n",
    "# ■ Compare the input with predefined email and password.\n",
    "# ■ Display success if both match or an error message if they don’t.\n",
    "# ○ Option 3 (Exit):\n",
    "# ■ Display an exit message and terminate the program.\n",
    "# ○ Invalid Input:\n",
    "# ■ Handle invalid user choices and ask the user to select a valid option.\n",
    "# Output:\n",
    "# 1. If the user enters a valid phone number and OTP, display: \"Login successful with phone!\"\n",
    "# 2. If the user enters valid email and password, display: \"Login successful with email!\"\n",
    "# 3. If the user selects the exit option, display: \"Exiting the program. Have a nice day!\"\n",
    "# 4. If the user enters invalid credentials or an invalid choice, display appropriate error messages.\n",
    "\n",
    "\n",
    "\n",
    "phone_number = \"1234567890\"\n",
    "otp = \"1234\"\n",
    "email = \"user@example.com\"\n",
    "password = \"password123\"\n",
    "\n",
    "print(\"Login Menu -----\")\n",
    "print(\"1. Login with Phone\")\n",
    "print(\"2. Login with Email\")\n",
    "print(\"3. Exit the system\")\n",
    "\n",
    "choice = input(\"Enter your choice (1/2/3): \")\n",
    "\n",
    "if choice == \"1\":\n",
    "    user_phone = input(\"Enter your phone number: \")\n",
    "    user_otp = input(\"Enter OTP: \")\n",
    "    if user_phone == phone_number and user_otp == otp:\n",
    "        print(\"Login successful with phone!\")\n",
    "    else:\n",
    "        print(\"Invalid phone number or OTP.\")\n",
    "\n",
    "elif choice == \"2\":\n",
    "    user_email = input(\"Enter your email: \")\n",
    "    user_password = input(\"Enter your password: \")\n",
    "    if user_email == email and user_password == password:\n",
    "        print(\"Login successful with email!\")\n",
    "    else:\n",
    "        print(\"Invalid email or password.\")\n",
    "\n",
    "elif choice == \"3\":\n",
    "    print(\"Exiting the program. Have a nice day!\")\n",
    "\n",
    "else:\n",
    "    print(\"Invalid choice! Please select 1, 2, or 3.\")\n"
   ]
  },
  {
   "cell_type": "code",
   "execution_count": 10,
   "id": "795f2a23-b04e-497b-a3b7-9a49116b991b",
   "metadata": {},
   "outputs": [
    {
     "name": "stdin",
     "output_type": "stream",
     "text": [
      "Do you want to start the KBC game? (yes/no):  yes\n"
     ]
    },
    {
     "name": "stdout",
     "output_type": "stream",
     "text": [
      "\n",
      "Q1: Who is the National Animal of India?\n",
      "A. Lion\n",
      "B. Tiger\n",
      "C. Elephant\n",
      "D. Gir Lion\n"
     ]
    },
    {
     "name": "stdin",
     "output_type": "stream",
     "text": [
      "Enter your answer (A/B/C/D) or type 'skip' to skip:  b\n"
     ]
    },
    {
     "name": "stdout",
     "output_type": "stream",
     "text": [
      "\n",
      "Q2: Who built the Lal Kila?\n",
      "A. Akbar\n",
      "B. AnangPal singh Tomar\n",
      "C. SurajMal ji\n",
      "D. Aurangzeb\n"
     ]
    },
    {
     "name": "stdin",
     "output_type": "stream",
     "text": [
      "Enter your answer (A/B/C/D) or type 'skip' to skip:  b\n"
     ]
    },
    {
     "name": "stdout",
     "output_type": "stream",
     "text": [
      "\n",
      "Q3: How often are the Olympic Games held?\n",
      "A. Every 2 years\n",
      "B. Every 3 years\n",
      "C. Every 4 years\n",
      "D. Every 5 years\n"
     ]
    },
    {
     "name": "stdin",
     "output_type": "stream",
     "text": [
      "Enter your answer (A/B/C/D) or type 'skip' to skip:  c\n"
     ]
    },
    {
     "name": "stdout",
     "output_type": "stream",
     "text": [
      "\n",
      "Q4: Mangalyaan was sent to which planet?\n",
      "A. Venus\n",
      "B. Mars\n",
      "C. Mercury\n",
      "D. Jupiter\n"
     ]
    },
    {
     "name": "stdin",
     "output_type": "stream",
     "text": [
      "Enter your answer (A/B/C/D) or type 'skip' to skip:  b\n"
     ]
    },
    {
     "name": "stdout",
     "output_type": "stream",
     "text": [
      "\n",
      "Q5: Who is the author of 'Jana Gana Mana'?\n",
      "A. Rabindranath Tagore\n",
      "B. Bankim Chandra Chatterjee\n",
      "C. Mahatma Gandhi\n",
      "D. Subhas Chandra Bose\n"
     ]
    },
    {
     "name": "stdin",
     "output_type": "stream",
     "text": [
      "Enter your answer (A/B/C/D) or type 'skip' to skip:  b\n"
     ]
    },
    {
     "name": "stdout",
     "output_type": "stream",
     "text": [
      "\n",
      "===== Game Over =====\n",
      "Total Score: 11000\n",
      "Correct Answers: 4\n",
      "Wrong Answers: 1\n",
      "Skipped Questions: 0\n"
     ]
    }
   ],
   "source": [
    "#23.Create Your Own KBC Game\n",
    "# Design and implement a quiz game inspired by the popular Kaun Banega Crorepati (KBC) game show. The aim of this assignment is to test the user's knowledge through a series of multiple-choice questions, track their score, and display statistics at the end of the game. The game also provides the flexibility to skip any question.\n",
    "# Instructions:\n",
    "# 1. Game Structure:\n",
    "# ○ The game will consist of 5 multiple-choice questions.\n",
    "# ○ The user will be asked a question with 4 options (A, B, C, D).\n",
    "# ○ The user can choose to skip any question they do not want to answer.\n",
    "# 2. Scoring System:\n",
    "# ○ Points will be awarded for correct answers as follows:\n",
    "# ■ Question 1 → 1000 points\n",
    "# ■ Question 2 → 2000 points\n",
    "# ■ Question 3 → 3000 points\n",
    "# ■ Question 4 → 5000 points\n",
    "# ■ Question 5 → 10000 points\n",
    "# ○ For incorrect answers, no points will be awarded.\n",
    "# ○ For skipped questions, no points will be awarded, but the game will continue.\n",
    "# 3. End of Game Statistics:\n",
    "# ○ At the end of the game, the following statistics will be displayed:\n",
    "# ■ Total score accumulated from correct answers.\n",
    "# ■ Number of correct answers provided by the user.\n",
    "# ■ Number of skipped questions.\n",
    "# ■ Number of wrong answers\n",
    "# 4. User Experience:\n",
    "# ○ At the beginning of the game, ask the user whether they would like to start or not the game.\n",
    "# ○ Provide the option for the user to skip any question at any point..\n",
    "# 5. Game Ending:\n",
    "# ○ The game will end when all the questions have been answered or skipped. The user should receive their total score and a summary of their performance.\n",
    "\n",
    "total_score = 0\n",
    "correct_count = 0\n",
    "wrong_count = 0\n",
    "skipped_count = 0\n",
    "\n",
    "start_game = input(\"Do you want to start the KBC game? (yes/no): \").strip().lower()\n",
    "\n",
    "if start_game == \"yes\":\n",
    "    # Question 1\n",
    "    print(\"\\nQ1: Who is the National Animal of India?\")\n",
    "    print(\"A. Lion\")\n",
    "    print(\"B. Tiger\")\n",
    "    print(\"C. Elephant\")\n",
    "    print(\"D. Gir Lion\")\n",
    "    ans1 = input(\"Enter your answer (A/B/C/D) or type 'skip' to skip: \").strip().upper()\n",
    "\n",
    "    if ans1 == \"SKIP\":\n",
    "        skipped_count += 1\n",
    "    elif ans1 == \"B\":\n",
    "        total_score += 1000\n",
    "        correct_count += 1\n",
    "    else:\n",
    "        wrong_count += 1\n",
    "\n",
    "    # Question 2\n",
    "    print(\"\\nQ2: Who built the Lal Kila?\")\n",
    "    print(\"A. Akbar\")\n",
    "    print(\"B. AnangPal singh Tomar\")\n",
    "    print(\"C. SurajMal ji\")\n",
    "    print(\"D. Aurangzeb\")\n",
    "    ans2 = input(\"Enter your answer (A/B/C/D) or type 'skip' to skip: \").strip().upper()\n",
    "\n",
    "    if ans2 == \"SKIP\":\n",
    "        skipped_count += 1\n",
    "    elif ans2 == \"B\":\n",
    "        total_score += 2000\n",
    "        correct_count += 1\n",
    "    else:\n",
    "        wrong_count += 1\n",
    "\n",
    "    # Question 3\n",
    "    print(\"\\nQ3: How often are the Olympic Games held?\")\n",
    "    print(\"A. Every 2 years\")\n",
    "    print(\"B. Every 3 years\")\n",
    "    print(\"C. Every 4 years\")\n",
    "    print(\"D. Every 5 years\")\n",
    "    ans3 = input(\"Enter your answer (A/B/C/D) or type 'skip' to skip: \").strip().upper()\n",
    "\n",
    "    if ans3 == \"SKIP\":\n",
    "        skipped_count += 1\n",
    "    elif ans3 == \"C\":\n",
    "        total_score += 3000\n",
    "        correct_count += 1\n",
    "    else:\n",
    "        wrong_count += 1\n",
    "\n",
    "    # Question 4\n",
    "    print(\"\\nQ4: Mangalyaan was sent to which planet?\")\n",
    "    print(\"A. Venus\")\n",
    "    print(\"B. Mars\")\n",
    "    print(\"C. Mercury\")\n",
    "    print(\"D. Jupiter\")\n",
    "    ans4 = input(\"Enter your answer (A/B/C/D) or type 'skip' to skip: \").strip().upper()\n",
    "\n",
    "    if ans4 == \"SKIP\":\n",
    "        skipped_count += 1\n",
    "    elif ans4 == \"B\":\n",
    "        total_score += 5000\n",
    "        correct_count += 1\n",
    "    else:\n",
    "        wrong_count += 1\n",
    "\n",
    "    # Question 5\n",
    "    print(\"\\nQ5: Who is the author of 'Jana Gana Mana'?\")\n",
    "    print(\"A. Rabindranath Tagore\")\n",
    "    print(\"B. Bankim Chandra Chatterjee\")\n",
    "    print(\"C. Mahatma Gandhi\")\n",
    "    print(\"D. Subhas Chandra Bose\")\n",
    "    ans5 = input(\"Enter your answer (A/B/C/D) or type 'skip' to skip: \").strip().upper()\n",
    "\n",
    "    if ans5 == \"SKIP\":\n",
    "        skipped_count += 1\n",
    "    elif ans5 == \"A\":\n",
    "        total_score += 10000\n",
    "        correct_count += 1\n",
    "    else:\n",
    "        wrong_count += 1\n",
    "\n",
    "    # Final Result\n",
    "    print(\"\\n===== Game Over =====\")\n",
    "    print(\"Total Score:\", total_score)\n",
    "    print(\"Correct Answers:\", correct_count)\n",
    "    print(\"Wrong Answers:\", wrong_count)\n",
    "    print(\"Skipped Questions:\", skipped_count)\n",
    "\n",
    "elif start_game == \"no\":\n",
    "    print(\"You chose not to start the game. Thank you!\")\n",
    "else:\n",
    "    print(\"Invalid choice! Please type 'yes' or 'no'.\")\n",
    "\n"
   ]
  }
 ],
 "metadata": {
  "kernelspec": {
   "display_name": "Python 3 (ipykernel)",
   "language": "python",
   "name": "python3"
  },
  "language_info": {
   "codemirror_mode": {
    "name": "ipython",
    "version": 3
   },
   "file_extension": ".py",
   "mimetype": "text/x-python",
   "name": "python",
   "nbconvert_exporter": "python",
   "pygments_lexer": "ipython3",
   "version": "3.13.5"
  }
 },
 "nbformat": 4,
 "nbformat_minor": 5
}
