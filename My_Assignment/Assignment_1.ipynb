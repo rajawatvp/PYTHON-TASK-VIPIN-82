{
 "cells": [
  {
   "cell_type": "markdown",
   "id": "f92c2a5b-833f-4102-bc8a-6780cb117972",
   "metadata": {},
   "source": [
    "#### This is my Assesment-1"
   ]
  },
  {
   "cell_type": "markdown",
   "id": "de54e128-67ba-434f-a28d-4e581ecf62f7",
   "metadata": {},
   "source": [
    "#### Basic Variable Swapping"
   ]
  },
  {
   "cell_type": "markdown",
   "id": "a416ec51-7e61-4456-ad58-36ff5eb5d3a5",
   "metadata": {},
   "source": [
    "###### 1. Switch values of two integers \n",
    "Input: n1 = 20, n2 = 30 \n",
    "\n",
    "Output: n1 = 30, n2 = 20"
   ]
  },
  {
   "cell_type": "code",
   "execution_count": 14,
   "id": "4dfb4122-d4e1-4c7f-907f-5638bbd784d2",
   "metadata": {},
   "outputs": [
    {
     "name": "stdout",
     "output_type": "stream",
     "text": [
      "The value of n1 is 30 and the value of n2 is 20\n"
     ]
    }
   ],
   "source": [
    "n1 = 20\n",
    "n2 = 30\n",
    "\n",
    "n1,n2 = n2,n1\n",
    "\n",
    "print(f\"The value of n1 is {n1} and the value of n2 is {n2}\")"
   ]
  },
  {
   "cell_type": "markdown",
   "id": "8bc4cf3d-4e58-45d0-8bf8-e2446f66ac1d",
   "metadata": {},
   "source": [
    "##### Switch values of two strings (characters)\n",
    "   Input: char1 = \"hello\", char2 = \"java\"\n",
    "   \n",
    "   Output: char1 = \"java\", char2 = \"hello\""
   ]
  },
  {
   "cell_type": "code",
   "execution_count": 15,
   "id": "b109ce7e-7aaf-4fc1-a60c-59c678b66f71",
   "metadata": {},
   "outputs": [
    {
     "name": "stdout",
     "output_type": "stream",
     "text": [
      "The value of char1 is java and the value of char2 is hello\n"
     ]
    }
   ],
   "source": [
    "char1 = \"hello\"\n",
    "char2 = \"java\"\n",
    "\n",
    "char1,char2 = char2,char1\n",
    "\n",
    "print(f\"The value of char1 is {char1} and the value of char2 is {char2}\")"
   ]
  },
  {
   "cell_type": "markdown",
   "id": "95fba29c-3416-4834-a6db-15c90eae6957",
   "metadata": {},
   "source": [
    "##### 3. Switch one string value with one integer value\n",
    "\n",
    "Input: n1 = 200, char2 = \"java\" \n",
    "\n",
    "Output: n1 = \"java\", char2 = 200"
   ]
  },
  {
   "cell_type": "code",
   "execution_count": 16,
   "id": "a8b1bca5-04bd-450f-be63-adec3296a879",
   "metadata": {},
   "outputs": [
    {
     "name": "stdout",
     "output_type": "stream",
     "text": [
      "The value of n1 is java and the value of char2 is 200\n",
      "Output: n1 = java char2 = 200\n"
     ]
    }
   ],
   "source": [
    "n1 = 200 \n",
    "char2 = \"java\"\n",
    "\n",
    "n1,char2 = char2,n1\n",
    "\n",
    "print(f\"The value of n1 is {n1} and the value of char2 is {char2}\")\n",
    "print(\"Output: n1 = java\", \"char2 = 200\")"
   ]
  },
  {
   "cell_type": "markdown",
   "id": "c763a47c-2c22-426a-819f-542324f54f9d",
   "metadata": {},
   "source": [
    "#### Banking and Transactions"
   ]
  },
  {
   "cell_type": "markdown",
   "id": "d6b288e7-6515-41b9-b386-a1d86187aa89",
   "metadata": {},
   "source": [
    "##### 5. Update balance after deposit\n",
    "\n",
    " Initial balance: current_balance = 10000\n",
    " \n",
    " Deposit amount: deposit_balance = 5000\n",
    "\n",
    " Output:\n",
    " \n",
    "○ Before deposit: current_balance = 10000\n",
    "\n",
    "○ After deposit: current_balance = 15000"
   ]
  },
  {
   "cell_type": "code",
   "execution_count": 17,
   "id": "409c66a7-d07b-482f-9fd7-41abd929dc51",
   "metadata": {},
   "outputs": [
    {
     "name": "stdout",
     "output_type": "stream",
     "text": [
      "Before deposit: current_balance =  10000\n",
      "After deposit: current_balance =  15000\n"
     ]
    }
   ],
   "source": [
    "current_balance = 10000\n",
    "deposit_balance = 5000\n",
    "\n",
    "before_diposite_current_balance = current_balance\n",
    "after_diposite_current_balance = current_balance + deposit_balance\n",
    "\n",
    "print(\"Before deposit: current_balance = \",current_balance)\n",
    "print(\"After deposit: current_balance = \",after_diposite_current_balance)"
   ]
  },
  {
   "cell_type": "markdown",
   "id": "2a9e28c4-4455-446e-9ba3-4ae310aed95c",
   "metadata": {},
   "source": [
    "##### 6. Update balance after withdrawal \n",
    "\n",
    "Before: balance = 12000 \n",
    "\n",
    "Withdrawal: 3000\n",
    "\n",
    "After =?"
   ]
  },
  {
   "cell_type": "code",
   "execution_count": 18,
   "id": "ce795cf3-dcb2-414e-86f9-dcdacd9da836",
   "metadata": {},
   "outputs": [
    {
     "name": "stdout",
     "output_type": "stream",
     "text": [
      "Available Balance =  9000\n"
     ]
    }
   ],
   "source": [
    "Avail_balance = 12000\n",
    "withdrawl = 3000\n",
    "\n",
    "after_withdrawl = Avail_balance - withdrawl\n",
    "\n",
    "print(\"Available Balance = \", after_withdrawl)"
   ]
  },
  {
   "cell_type": "markdown",
   "id": "d3fb98c0-a5c9-4e91-a23c-639482fe38d2",
   "metadata": {},
   "source": [
    "##### 7. Increase shopping cart items by 3\n",
    "\n",
    "Before: cart_items = 5 \n",
    "\n",
    "After: ?"
   ]
  },
  {
   "cell_type": "code",
   "execution_count": 19,
   "id": "c1a32df5-b04c-4102-bb1f-21f1256ea0e3",
   "metadata": {},
   "outputs": [
    {
     "name": "stdout",
     "output_type": "stream",
     "text": [
      "After increase cart limit =  8\n"
     ]
    }
   ],
   "source": [
    "current_cart_items = 5\n",
    "increase_shoping_cart_item_by = 3\n",
    "\n",
    "after_increase_cart_limit = current_cart_items + increase_shoping_cart_item_by\n",
    "\n",
    "print(\"After increase cart limit = \",after_increase_cart_limit)"
   ]
  },
  {
   "cell_type": "markdown",
   "id": "9853f1c5-3567-46bf-9493-3edbf826b212",
   "metadata": {},
   "source": [
    "##### 8. Apply a 20% discount to a price \n",
    "\n",
    "Before: price = 1000 \n",
    "\n",
    "After: ?"
   ]
  },
  {
   "cell_type": "code",
   "execution_count": 20,
   "id": "27e344df-d9cf-473f-9ec2-5e078ec41810",
   "metadata": {},
   "outputs": [
    {
     "name": "stdout",
     "output_type": "stream",
     "text": [
      "Price after discount is 800 \n"
     ]
    }
   ],
   "source": [
    "price_before_discount = 1000\n",
    "discount = 20\n",
    "discount_price = (price_before_discount * discount)//100 \n",
    "\n",
    "Price_after_discount = price_before_discount - discount_price\n",
    "\n",
    "print(f\"Price after discount is {Price_after_discount} \")\n"
   ]
  },
  {
   "cell_type": "markdown",
   "id": "23840e03-f70e-43c5-8bc3-1ae3815c18fb",
   "metadata": {},
   "source": [
    "#### Academic Calculations"
   ]
  },
  {
   "cell_type": "markdown",
   "id": "15e4ee83-f696-44c6-8dd7-f9e95627433c",
   "metadata": {},
   "source": [
    "##### 9. Calculate student percentage\n",
    "\n",
    "Input: obtain_marks = 430, \n",
    "\n",
    "out_of = 500 \n",
    "\n",
    "Output: Percentage = ?"
   ]
  },
  {
   "cell_type": "code",
   "execution_count": 21,
   "id": "1ddb91a2-bd99-40c8-b84b-aafc8990ee53",
   "metadata": {},
   "outputs": [
    {
     "name": "stdout",
     "output_type": "stream",
     "text": [
      "Output percentage of the student is 86.0\n"
     ]
    }
   ],
   "source": [
    "total_marks = 500\n",
    "obtained_marks = 430\n",
    "\n",
    "output_percentage = (obtained_marks * 100)/total_marks\n",
    "\n",
    "print(f\"Output percentage of the student is {output_percentage}\")"
   ]
  },
  {
   "cell_type": "markdown",
   "id": "96ef0e52-8ebb-41d2-8cdc-12df66c30c8e",
   "metadata": {},
   "source": [
    "##### 10. Calculate total and average of 4 subjects \n",
    "\n",
    "Input Example:\n",
    "\n",
    "● Subject 1: 80\n",
    "\n",
    "● Subject 2: 75\n",
    "\n",
    "● Subject 3: 90\n",
    "\n",
    "● Subject 4: 85"
   ]
  },
  {
   "cell_type": "code",
   "execution_count": 22,
   "id": "a7e88d71-e2a8-460a-9667-0f278da153f3",
   "metadata": {},
   "outputs": [
    {
     "name": "stdout",
     "output_type": "stream",
     "text": [
      "Total marks are 330 and average of marks are 82.5\n"
     ]
    }
   ],
   "source": [
    "sub1 = 80\n",
    "sub2 = 75\n",
    "sub3 = 90\n",
    "sub4 = 85 \n",
    "\n",
    "total_of_marks = (sub1 + sub2 + sub3 + sub4)\n",
    "\n",
    "average_of_marks = total_of_marks/4\n",
    "\n",
    "print(f\"Total marks are {total_of_marks} and average of marks are {average_of_marks}\")\n"
   ]
  },
  {
   "cell_type": "markdown",
   "id": "8944108f-f0d9-42c8-b4c9-401b05b8b588",
   "metadata": {},
   "source": [
    "##### 11. Calculate average of 3 numbers\n",
    "\n",
    "Input: \n",
    "\n",
    "num1 = 25, \n",
    "\n",
    "num2 = 35, \n",
    "\n",
    "num3 = 45 \n",
    "\n",
    "Output: \n",
    "\n",
    "Average = ?"
   ]
  },
  {
   "cell_type": "code",
   "execution_count": 23,
   "id": "5601dcc8-2b9f-4a7e-9b8f-b100a80b3aa2",
   "metadata": {},
   "outputs": [
    {
     "name": "stdout",
     "output_type": "stream",
     "text": [
      "The average of these nunmbers are  35.0\n"
     ]
    }
   ],
   "source": [
    "num1 = 25\n",
    "num2 = 35\n",
    "num3 = 45\n",
    "\n",
    "average = (num1+num2+num3)/3\n",
    "print(\"The average of these nunmbers are \", average)"
   ]
  },
  {
   "cell_type": "markdown",
   "id": "cdd6ee61-89f2-4de6-8588-1d6556f9d62e",
   "metadata": {},
   "source": [
    "##### Finance & Business Calculations"
   ]
  },
  {
   "cell_type": "markdown",
   "id": "be579933-70e0-4c1f-b465-879104e55166",
   "metadata": {},
   "source": [
    "##### 12. Calculate profi t or loss percentage\n",
    "Input: \n",
    "\n",
    "cost_price = 500, \n",
    "\n",
    "selling_price = 600 \n",
    "\n",
    "Output: Profit or Loss = ?"
   ]
  },
  {
   "cell_type": "code",
   "execution_count": 24,
   "id": "ed86ebba-9a3b-4f33-a6ae-918d133b7794",
   "metadata": {},
   "outputs": [
    {
     "name": "stdout",
     "output_type": "stream",
     "text": [
      "The Profit Percentage = 20 %\n"
     ]
    }
   ],
   "source": [
    "cost_price = 500\n",
    "selling_price = 600\n",
    "profit = selling_price - cost_price\n",
    "\n",
    "profit_percentage = (profit*100)//cost_price\n",
    "output = profit_percentage\n",
    "\n",
    "print(\"The Profit Percentage =\",output,\"%\")"
   ]
  },
  {
   "cell_type": "markdown",
   "id": "f42b2ab9-bb36-4bbc-88f1-a2bf2c245063",
   "metadata": {},
   "source": [
    "##### 13. Calculate simple interest \n",
    "\n",
    "Input: principal = 10000, rate = 5, time = 2 \n",
    "\n",
    "Output: Simple Interest = ?"
   ]
  },
  {
   "cell_type": "code",
   "execution_count": 25,
   "id": "e520c3d0-dd01-4e8c-9119-16ebe8c87ece",
   "metadata": {},
   "outputs": [
    {
     "name": "stdout",
     "output_type": "stream",
     "text": [
      "The simple interest if the given data is 1000.0\n"
     ]
    }
   ],
   "source": [
    "principal_amount = 10000\n",
    "rate_of_interest = 5\n",
    "time = 2\n",
    "\n",
    "simple_interest = (principal_amount*rate_of_interest*2)/100\n",
    "\n",
    "print(f\"The simple interest if the given data is {simple_interest}\")"
   ]
  },
  {
   "cell_type": "markdown",
   "id": "13e718b9-fc1d-443a-8bf4-9a557f1ce3c0",
   "metadata": {},
   "source": [
    "##### 14. Calculate compound interest \n",
    "\n",
    "Input: \n",
    "\n",
    "principal = 10000, rate = 5, time = 2 \n",
    "\n",
    "Output: Compound Interest = ?"
   ]
  },
  {
   "cell_type": "code",
   "execution_count": 71,
   "id": "0a87a6ee-2a12-449a-8aad-b3cf31b50b42",
   "metadata": {},
   "outputs": [
    {
     "name": "stdout",
     "output_type": "stream",
     "text": [
      "The compound interest for this amount is 1025.0\n"
     ]
    }
   ],
   "source": [
    "principal = 10000\n",
    "rate = 5\n",
    "time = 2\n",
    "\n",
    "calculate_amount = principal*(1+rate/100)**time\n",
    "coumpound_interest = calculate_amount-principal\n",
    "print(f\"The compound interest for this amount is {coumpound_interest}\")"
   ]
  },
  {
   "cell_type": "markdown",
   "id": "2417ac96-2d09-44e3-9916-bb2837dfb580",
   "metadata": {},
   "source": [
    "##### 15. Calculate tax on income \n",
    "\n",
    "Input: income = 500000, \n",
    "\n",
    "tax_rate = 10 \n",
    "\n",
    "Output: Tax = ?"
   ]
  },
  {
   "cell_type": "code",
   "execution_count": 29,
   "id": "b89ad443-ea90-4a6c-97d1-1079f96eb7b8",
   "metadata": {},
   "outputs": [
    {
     "name": "stdout",
     "output_type": "stream",
     "text": [
      "50000\n"
     ]
    }
   ],
   "source": [
    "income = 500000\n",
    "tax_rate = 10\n",
    "\n",
    "Tax = income//tax_rate\n",
    "\n",
    "print(Tax)"
   ]
  },
  {
   "cell_type": "markdown",
   "id": "b570b4a7-bf54-462d-b63d-af12db4c84c6",
   "metadata": {},
   "source": [
    "##### 16. Calculate percentage increase or decrease \n",
    "\n",
    "Input: \n",
    "\n",
    "initial_value = 200, \n",
    "\n",
    "final_value = 250 \n",
    "\n",
    "Output: Percentage Change = ?\n",
    "\n"
   ]
  },
  {
   "cell_type": "code",
   "execution_count": 30,
   "id": "10622426-d1ab-4ab5-9992-c7440d0cd683",
   "metadata": {},
   "outputs": [
    {
     "name": "stdout",
     "output_type": "stream",
     "text": [
      "Percentage Change 25.0\n"
     ]
    }
   ],
   "source": [
    "initial_value = 200\n",
    "final_value = 250\n",
    "\n",
    "change_in_percentage = ((final_value - initial_value)/initial_value)*100\n",
    "\n",
    "print(f\"Percentage Change {change_in_percentage}\")"
   ]
  },
  {
   "cell_type": "markdown",
   "id": "07d13e4d-e749-4846-a751-746fda4c48c9",
   "metadata": {},
   "source": [
    "#### Conversions"
   ]
  },
  {
   "cell_type": "markdown",
   "id": "8db3048c-2caa-4a47-b0f8-b7c22d7f9a78",
   "metadata": {},
   "source": [
    "##### 17. Convert boolean to integer \n",
    "\n",
    "Input: True \n",
    "\n",
    "Output: ?"
   ]
  },
  {
   "cell_type": "code",
   "execution_count": 1,
   "id": "fcccff5d-1d14-4b23-9a4c-713175c043ce",
   "metadata": {},
   "outputs": [
    {
     "name": "stdout",
     "output_type": "stream",
     "text": [
      "initial value True\n",
      "final value 1\n"
     ]
    }
   ],
   "source": [
    "bool_val = True\n",
    "print(\"initial value\",bool_val)\n",
    "\n",
    "bool_val = int(bool_val == True)\n",
    "print(\"final value\",bool_val)"
   ]
  },
  {
   "cell_type": "markdown",
   "id": "23b16a89-6a90-4fc2-aaff-8f9614f9298a",
   "metadata": {},
   "source": [
    "##### 18. Convert \n",
    "\n",
    "float to string\n",
    "\n",
    "Input: 45.67\n",
    "Output: ?"
   ]
  },
  {
   "cell_type": "code",
   "execution_count": 6,
   "id": "e5f6abda-aa9f-4fed-b9bb-4dc5f44692a5",
   "metadata": {},
   "outputs": [
    {
     "name": "stdout",
     "output_type": "stream",
     "text": [
      "float value 45.67\n",
      "striing value False\n",
      "<class 'str'>\n"
     ]
    }
   ],
   "source": [
    "float_value = 45.67\n",
    "print(\"float value\",float_value)\n",
    "\n",
    "string_value = str(float_value == True)\n",
    "print(\"striing value\", string_value)\n",
    "\n",
    "print(type(string_value))"
   ]
  },
  {
   "cell_type": "markdown",
   "id": "633c1858-ddf3-4c2e-a26d-baf237053a04",
   "metadata": {},
   "source": [
    "##### 19. Convert \n",
    "20°C to Fahrenheit \n",
    "\n",
    "Input: 20°C \n",
    "Output: ?"
   ]
  },
  {
   "cell_type": "code",
   "execution_count": 16,
   "id": "93cb0529-81a6-4d4d-ad67-be9f82a953ca",
   "metadata": {},
   "outputs": [
    {
     "name": "stdout",
     "output_type": "stream",
     "text": [
      "The conversion value of 20 degree celcius into fahrenheit is 68.0\n",
      "The conversion value of 20 degree celcius into fahrenheit is 68.0\n"
     ]
    }
   ],
   "source": [
    "cel_value = 20\n",
    "\n",
    "c_to_f = (9/5)*cel_value+32\n",
    "\n",
    "final_value = c_to_f\n",
    "print(f\"The conversion value of 20 degree celcius into fahrenheit is {final_value}\")"
   ]
  },
  {
   "cell_type": "markdown",
   "id": "e88d828c-2f51-441b-94dd-12022875d503",
   "metadata": {},
   "source": [
    "##### 20. Convert \n",
    "\n",
    "50°F to Celsius\n",
    "\n",
    "Input: 50°F\n",
    "\n",
    "Output: ?"
   ]
  },
  {
   "cell_type": "code",
   "execution_count": 17,
   "id": "798b29d9-9467-4ab2-966f-19ac098654db",
   "metadata": {},
   "outputs": [
    {
     "name": "stdout",
     "output_type": "stream",
     "text": [
      "10.0\n"
     ]
    }
   ],
   "source": [
    "freh_value = 50\n",
    "f_to_c = (5/9)*(freh_value-32)\n",
    "\n",
    "final_value = f_to_c\n",
    "print(final_value)"
   ]
  },
  {
   "cell_type": "markdown",
   "id": "a4ae198f-654d-4ddd-a080-28dec07043e5",
   "metadata": {},
   "source": [
    "##### 21. Convert \n",
    "\n",
    "integer to binary \n",
    "\n",
    "Input: 25 \n",
    "\n",
    "Output: ?"
   ]
  },
  {
   "cell_type": "code",
   "execution_count": 20,
   "id": "daf67b40-1c82-4f2b-a1a1-149b74818fb3",
   "metadata": {},
   "outputs": [
    {
     "name": "stdout",
     "output_type": "stream",
     "text": [
      "The binary number of the value 25 is 11001\n"
     ]
    }
   ],
   "source": [
    "int_value = 25\n",
    "binary = format(int_value,'b')\n",
    "\n",
    "print(f\"The binary number of the value {int_value} is {binary}\")\n",
    "\n"
   ]
  },
  {
   "cell_type": "markdown",
   "id": "57082ce7-8759-4e2b-8ab6-3885bce1c780",
   "metadata": {},
   "source": [
    "#### Geometry"
   ]
  },
  {
   "cell_type": "markdown",
   "id": "b43392f2-b8a2-4390-b3cf-ca2496f9febc",
   "metadata": {},
   "source": [
    "##### 21. Calculate area of a triangle\n",
    "\n",
    "Input: base = 10, height = 6 \n",
    "\n",
    "Output: Area = ?"
   ]
  },
  {
   "cell_type": "code",
   "execution_count": 23,
   "id": "16f51530-33fa-4c8f-be28-5707aed19c79",
   "metadata": {},
   "outputs": [
    {
     "name": "stdout",
     "output_type": "stream",
     "text": [
      "Area of triangle is 30.0\n"
     ]
    }
   ],
   "source": [
    "base =10\n",
    "height = 6\n",
    "\n",
    "area_of_triangle = (1/2)*base*height\n",
    "print(f\"Area of triangle is {area_of_triangle}\")"
   ]
  },
  {
   "cell_type": "markdown",
   "id": "8aef2eb0-a62c-4374-beda-b5817372ff8e",
   "metadata": {},
   "source": [
    "##### 22. Calculate \n",
    "\n",
    "perimeter of a square \n",
    "\n",
    "Input: side = 9 \n",
    "\n",
    "Output: Perimeter = ?"
   ]
  },
  {
   "cell_type": "code",
   "execution_count": 24,
   "id": "2a65185c-4ea1-4fa1-a352-1474b8df0383",
   "metadata": {},
   "outputs": [
    {
     "name": "stdout",
     "output_type": "stream",
     "text": [
      "The perimeter of the square is  36\n"
     ]
    }
   ],
   "source": [
    "sides = 9\n",
    "perimeter_of_a_square = 4*sides\n",
    "\n",
    "print(\"The perimeter of the square is \",perimeter_of_a_square)\n"
   ]
  },
  {
   "cell_type": "markdown",
   "id": "5e4a2dbf-66c4-486a-b9eb-34a22df59670",
   "metadata": {},
   "source": [
    "##### 23. Calculate \n",
    "\n",
    "diameter of a circle \n",
    "\n",
    "Input: radius = 14 \n",
    "\n",
    "Output: Diameter = ?"
   ]
  },
  {
   "cell_type": "code",
   "execution_count": 27,
   "id": "1f300f20-e54e-4b49-b48c-71288e60da8c",
   "metadata": {},
   "outputs": [
    {
     "name": "stdout",
     "output_type": "stream",
     "text": [
      "The diameter of the circle is  28\n"
     ]
    }
   ],
   "source": [
    "radius = 14\n",
    "diameter_of_circle = 2*radius\n",
    "\n",
    "print(\"The diameter of the circle is \", diameter_of_circle)"
   ]
  },
  {
   "cell_type": "markdown",
   "id": "a56f761a-c971-4d56-ae16-ea242480df73",
   "metadata": {},
   "source": [
    "##### 24. Calculate \n",
    "\n",
    "volume of a cube \n",
    "\n",
    "Input: side = 5 \n",
    "\n",
    "Output: Volume = ?"
   ]
  },
  {
   "cell_type": "code",
   "execution_count": 28,
   "id": "ed5dcfb4-30bf-4d16-8474-e222438cb65e",
   "metadata": {},
   "outputs": [
    {
     "name": "stdout",
     "output_type": "stream",
     "text": [
      "volume of cube is  125\n"
     ]
    }
   ],
   "source": [
    "side = 5\n",
    "volume_of_cube = side**3\n",
    "\n",
    "print(\"volume of cube is \", volume_of_cube)"
   ]
  },
  {
   "cell_type": "markdown",
   "id": "014b045d-3d45-4365-8b8a-d343e9ed536c",
   "metadata": {},
   "source": [
    "##### 25. Calculate \n",
    "\n",
    "surface area of a cuboid \n",
    "\n",
    "Input: l = 4, b = 3, h = 2 \n",
    "\n",
    "Output: Surface Area = ?"
   ]
  },
  {
   "cell_type": "code",
   "execution_count": 30,
   "id": "3f50d590-1ad0-4031-bf05-f6f590bbc373",
   "metadata": {},
   "outputs": [
    {
     "name": "stdout",
     "output_type": "stream",
     "text": [
      "The volume of cuboid is  24\n"
     ]
    }
   ],
   "source": [
    "lenght = 4\n",
    "bidth = 3\n",
    "height = 2\n",
    "\n",
    "volume_of_cuboid = lenght*bidth*height\n",
    "\n",
    "print(\"The volume of cuboid is \",volume_of_cuboid)"
   ]
  },
  {
   "cell_type": "markdown",
   "id": "81db29c3-176c-42d0-bb26-16c889cf1856",
   "metadata": {},
   "source": [
    "#### Mathematical Expressions"
   ]
  },
  {
   "cell_type": "markdown",
   "id": "71877fce-65ea-40c6-9544-77ef92752335",
   "metadata": {},
   "source": [
    "##### 26.Square of \n",
    "\n",
    "sum: (x + y)² \n",
    "\n",
    "Input: x = 5, y = 7 \n",
    "\n",
    "Output: ?"
   ]
  },
  {
   "cell_type": "code",
   "execution_count": 31,
   "id": "f92c379c-5826-449e-bd7a-60d5db8e30e8",
   "metadata": {},
   "outputs": [
    {
     "name": "stdout",
     "output_type": "stream",
     "text": [
      "144\n"
     ]
    }
   ],
   "source": [
    "x = 5\n",
    "y = 7\n",
    "\n",
    "sum_ = x**2+y**2+2*x*y\n",
    "\n",
    "print(sum_)"
   ]
  },
  {
   "cell_type": "markdown",
   "id": "50869bb6-05ab-4ee2-8889-f40bbeaa4f1b",
   "metadata": {},
   "source": [
    "##### 27.Simplify \n",
    "\n",
    "expression: x² - 4x + 4 \n",
    "\n",
    "Input: x = 3 \n",
    "\n",
    "Output: ?"
   ]
  },
  {
   "cell_type": "code",
   "execution_count": 32,
   "id": "7164be43-7dc0-42f0-83a0-713a44c4cfaf",
   "metadata": {},
   "outputs": [
    {
     "name": "stdout",
     "output_type": "stream",
     "text": [
      "1\n"
     ]
    }
   ],
   "source": [
    "x = 3\n",
    "expression = x**2-4*x+4\n",
    "print(expression)"
   ]
  },
  {
   "cell_type": "markdown",
   "id": "4bb103fc-be8f-481b-91c9-d2d1d16fb9fb",
   "metadata": {},
   "source": [
    "##### 25.Evaluate: (a + b)(a - b) \n",
    "\n",
    "Input: a = 6, b = 2\n",
    "\n",
    "Output: ?"
   ]
  },
  {
   "cell_type": "code",
   "execution_count": 33,
   "id": "c5daa1f1-2383-4cf2-93ed-e722b883a7dc",
   "metadata": {},
   "outputs": [
    {
     "name": "stdout",
     "output_type": "stream",
     "text": [
      "Output : 32\n"
     ]
    }
   ],
   "source": [
    "a= 6\n",
    "b=2\n",
    "evaluation_formula = a**2-b**2\n",
    "\n",
    "print(\"Output :\", evaluation_formula)"
   ]
  },
  {
   "cell_type": "markdown",
   "id": "161f5650-e5a5-410b-9f39-aac21fb6d77d",
   "metadata": {},
   "source": [
    "##### 29.Sum of cubes: a³ + b³ \n",
    "\n",
    "Input: a = 1, b = 2 \n",
    "\n",
    "Output: ?"
   ]
  },
  {
   "cell_type": "code",
   "execution_count": 36,
   "id": "a2c46585-edfe-42db-ad1c-1caef1d86a19",
   "metadata": {},
   "outputs": [
    {
     "name": "stdout",
     "output_type": "stream",
     "text": [
      "The sum of cube expression is 9\n"
     ]
    }
   ],
   "source": [
    "a = 1\n",
    "b = 2\n",
    "\n",
    "sum_of_cube = (a+b)*(a**2-a*b+b**2)\n",
    "print(\"The sum of cube expression is\", sum_of_cube)"
   ]
  },
  {
   "cell_type": "markdown",
   "id": "3dff3838-a92a-4282-823c-7f21f4f6440e",
   "metadata": {},
   "source": [
    "##### 30.Simplify: (x - y)² \n",
    "\n",
    "Input: x = 10, y = 6 \n",
    "\n",
    "Output: ?"
   ]
  },
  {
   "cell_type": "code",
   "execution_count": 41,
   "id": "d256fa48-00bf-46ca-a036-91d6bf56ead6",
   "metadata": {},
   "outputs": [
    {
     "name": "stdout",
     "output_type": "stream",
     "text": [
      "The evaluation of this expression is  16\n"
     ]
    }
   ],
   "source": [
    "x = 10\n",
    "y= 6\n",
    "\n",
    "sum_expression = (x**2)+(y**2)-(2*x*y)\n",
    "\n",
    "print(\"The evaluation of this expression is \", sum_expression)"
   ]
  },
  {
   "cell_type": "markdown",
   "id": "f2c3f187-8881-421e-adc2-b94be803d8a4",
   "metadata": {},
   "source": [
    "##### 31.Difference of cubes: x³ - y³ \n",
    "\n",
    "Input: x = 4, y = 1 \n",
    "\n",
    "Output: ?"
   ]
  },
  {
   "cell_type": "code",
   "execution_count": 43,
   "id": "c2bd0c0b-989d-486f-a52e-d00f82bad4e1",
   "metadata": {},
   "outputs": [
    {
     "name": "stdout",
     "output_type": "stream",
     "text": [
      "The output value of this expression is  63\n"
     ]
    }
   ],
   "source": [
    "x = 4\n",
    "y = 1\n",
    "\n",
    "evaluation = (x-y)*(x**2+x*y+y**2)\n",
    "\n",
    "print(\"The output value of this expression is \",evaluation)"
   ]
  },
  {
   "cell_type": "markdown",
   "id": "edb1cbac-6ccb-4af2-b79e-7db0e8e25ab7",
   "metadata": {},
   "source": [
    "#### String Operations"
   ]
  },
  {
   "cell_type": "markdown",
   "id": "d82e9ba4-0a3d-406d-a17d-055e1c2b49e5",
   "metadata": {},
   "source": [
    "##### 32.If user input is:\n",
    "\n",
    "Name: Dev\n",
    "\n",
    "Age: 25\n",
    "\n",
    "City: Jaipur\n",
    "\n",
    "Hobby: Cooking\n",
    "\n",
    "#### Then Output is :\n",
    "\n",
    "Meet Dev, a 25-year-old enthusiast from Jaipur."
   ]
  },
  {
   "cell_type": "code",
   "execution_count": 56,
   "id": "b14955c1-7a50-42ee-a2e0-5677bcd55bc1",
   "metadata": {},
   "outputs": [
    {
     "name": "stdin",
     "output_type": "stream",
     "text": [
      "Enter the name Dev\n",
      "Enter the age 25\n",
      "Enter the city jaipur\n",
      "Enter the Hobby Cooking\n"
     ]
    },
    {
     "name": "stdout",
     "output_type": "stream",
     "text": [
      "Meet Dev a 25 -year-old ethusiast from jaipur When not busy with daily tasks  Dev loves spending time Cooking Life in jaipur keeps Dev energetic and curious every single day. With coding as a passion, the future looks creative and inspiring for Dev in the jaipur City.\n"
     ]
    }
   ],
   "source": [
    "Name = str(input(\"Enter the name\"))\n",
    "Age = int (input(\"Enter the age\"))\n",
    "City = str(input(\"Enter the city\"))\n",
    "Hobby = str(input(\"Enter the Hobby\"))\n",
    "\n",
    "print(\"Meet\", Name, \"a\", Age, \"-year-old ethusiast from\", City,\"When not busy with daily tasks \",Name, \"loves spending time\", Hobby, \n",
    "\"Life in\",City, \"keeps\", Name, \"energetic and curious every single day.\"\n",
    "\" With coding as a passion, the future looks creative and inspiring for\", Name, \"in the\", City, \"City.\")\n"
   ]
  },
  {
   "cell_type": "markdown",
   "id": "dea90e73-5223-4807-823f-3ce315f48645",
   "metadata": {},
   "source": [
    "##### 33.Create a Python program that asks the user for the following:\n",
    "\n",
    "● Full Name\n",
    "\n",
    "● Profession\n",
    "\n",
    "● Favorite Quote\n",
    "\n",
    "● Years of Experience\n",
    "\n",
    "##### Output format:\n",
    "\n",
    "Name : <Full Name>\n",
    "\n",
    "Profession : <Profession>\n",
    "\n",
    "Experience : <Years of Experience> years\n",
    "\n",
    "Quote : \"<Favorite Quote>\""
   ]
  },
  {
   "cell_type": "code",
   "execution_count": 60,
   "id": "e1e6709f-7d19-418c-a4f0-68bf363e86d3",
   "metadata": {},
   "outputs": [
    {
     "name": "stdin",
     "output_type": "stream",
     "text": [
      "Full Name:  vipin\n",
      "Profession:  data analyst\n",
      "Favorite Quote :  never give up\n",
      "Years of Experience:  4\n"
     ]
    },
    {
     "name": "stdout",
     "output_type": "stream",
     "text": [
      "Name : vipin\n",
      "Profession : data analyst\n",
      "Experience : 4 years\n",
      "Quote : never give up\n"
     ]
    }
   ],
   "source": [
    "Full_Name = str(input(\"Full Name: \"))\n",
    "Profession = str (input(\"Profession: \"))\n",
    "Favorite_Quote = str(input(\"Favorite Quote : \"))\n",
    "Years_of_Experience = int(input(\"Years of Experience: \"))\n",
    "\n",
    "\n",
    "\n",
    "print( \"Name :\",Full_Name)\n",
    "print( \"Profession :\",Profession)\n",
    "print( \"Experience :\",Years_of_Experience,\"years\")\n",
    "print( \"Quote :\",Favorite_Quote)\n",
    "\n"
   ]
  },
  {
   "cell_type": "markdown",
   "id": "d45eca82-5d58-41e0-8f6e-0f1650cacfa1",
   "metadata": {},
   "source": [
    "##### 34.Ask the user:\n",
    "\n",
    "● Movie Name\n",
    "\n",
    "● Viewer Name\n",
    "\n",
    "● Seat Number\n",
    "\n",
    "● Show Time\n",
    "\n",
    "Output format: 🎬 Movie Ticket 🎟️ \n",
    "\n",
    "Movie : Movie Name"
   ]
  },
  {
   "cell_type": "code",
   "execution_count": 62,
   "id": "3aa458c7-988a-48d7-9904-cbf7662db65b",
   "metadata": {},
   "outputs": [
    {
     "name": "stdin",
     "output_type": "stream",
     "text": [
      "Movie Name HARRY POTTER\n",
      "Viewer Name vipin\n",
      "Seat Number 22\n",
      "Show Time 11:30\n"
     ]
    },
    {
     "name": "stdout",
     "output_type": "stream",
     "text": [
      "Movie Ticket\n",
      "Movie HARRY POTTER\n",
      "Viewer Name vipin\n",
      "Seat Number 22\n",
      "Show Time 11:30\n"
     ]
    }
   ],
   "source": [
    "Movie_name = str(input(\"Movie Name\"))\n",
    "Viewer_name = str(input(\"Viewer Name\"))\n",
    "Seat_number = int(input(\"Seat Number\"))\n",
    "Show_time = str(input(\"Show Time\"))\n",
    "\n",
    "print(\"Movie Ticket\")\n",
    "\n",
    "print(\"Movie\",Movie_name)\n",
    "print(\"Viewer Name\",Viewer_name )\n",
    "print(\"Seat Number\",Seat_number )\n",
    "print(\"Show Time\",Show_time)"
   ]
  },
  {
   "cell_type": "code",
   "execution_count": null,
   "id": "b5cc3e1a-f701-4c3b-be55-2464c7b91385",
   "metadata": {},
   "outputs": [],
   "source": []
  }
 ],
 "metadata": {
  "kernelspec": {
   "display_name": "Python 3 (ipykernel)",
   "language": "python",
   "name": "python3"
  },
  "language_info": {
   "codemirror_mode": {
    "name": "ipython",
    "version": 3
   },
   "file_extension": ".py",
   "mimetype": "text/x-python",
   "name": "python",
   "nbconvert_exporter": "python",
   "pygments_lexer": "ipython3",
   "version": "3.13.5"
  }
 },
 "nbformat": 4,
 "nbformat_minor": 5
}
