{
 "cells": [
  {
   "cell_type": "code",
   "execution_count": 1,
   "id": "29574b7e-e52c-43a0-9e6f-9b85174a1286",
   "metadata": {},
   "outputs": [],
   "source": [
    "# # # Loops in  python\n",
    "\n",
    "# # In loop is like we have to touch every data,\n",
    "# # or we have to rech every point\n",
    "\n",
    "# Types of Loops in PYTHON\n",
    "\n",
    "# 1. for loop: range based loop.\n",
    "# 2. while loop\n",
    "\n"
   ]
  },
  {
   "cell_type": "code",
   "execution_count": 6,
   "id": "ef6e680a-3d8c-4404-9843-7ee5edbf65c2",
   "metadata": {},
   "outputs": [
    {
     "name": "stdout",
     "output_type": "stream",
     "text": [
      "12\n",
      "14\n",
      "16\n",
      "18\n",
      "20\n",
      "22\n",
      "24\n"
     ]
    }
   ],
   "source": [
    "# range (start:0, stop-1,step:1)\n",
    "\n",
    "for e in range (12,25,2):\n",
    "    print(e)"
   ]
  },
  {
   "cell_type": "code",
   "execution_count": 7,
   "id": "b1648576-5908-4672-819a-4370af26987c",
   "metadata": {},
   "outputs": [
    {
     "name": "stdout",
     "output_type": "stream",
     "text": [
      "12\n",
      "14\n",
      "16\n",
      "18\n",
      "20\n",
      "22\n",
      "24\n"
     ]
    }
   ],
   "source": [
    "# range (start:0, stop-1,step:1)\n",
    "\n",
    "for e in range (12,25,2):\n",
    "    \n",
    "    print(e)"
   ]
  },
  {
   "cell_type": "code",
   "execution_count": 2,
   "id": "693f6c8b-4627-4e6c-9212-090fb42b7d77",
   "metadata": {},
   "outputs": [
    {
     "name": "stdin",
     "output_type": "stream",
     "text": [
      "Enter start point 1\n",
      "Enter step point 5\n"
     ]
    },
    {
     "name": "stdout",
     "output_type": "stream",
     "text": [
      "15\n"
     ]
    }
   ],
   "source": [
    "# user take start point and end point : generate => sum\n",
    "\n",
    "start_point = int(input(\"Enter start point\"))\n",
    "stop_point = int(input(\"Enter step point\"))\n",
    "\n",
    "c = 0\n",
    "if start_point<stop_point:\n",
    "    for i in range (start_point,stop_point+1):\n",
    "        c=c+i\n",
    "    print(c)\n",
    "else:\n",
    "    for i in range (stop_point,start_point+1):\n",
    "        c=c+i\n",
    "    print(c)"
   ]
  },
  {
   "cell_type": "code",
   "execution_count": 36,
   "id": "3de1cbb7-2215-4f0c-8b06-b05befcd605d",
   "metadata": {},
   "outputs": [
    {
     "name": "stdin",
     "output_type": "stream",
     "text": [
      "Enter your name vipin\n"
     ]
    },
    {
     "name": "stdout",
     "output_type": "stream",
     "text": [
      "v -1\n",
      "i -1\n",
      "p -1\n",
      "i -1\n",
      "n -1\n"
     ]
    }
   ],
   "source": [
    "# Reverse your name \n",
    "\n",
    "a = input(\"Enter your name\")\n",
    "\n",
    "for i in range(len(a)):\n",
    "    print(a[i])\n",
    "    "
   ]
  },
  {
   "cell_type": "code",
   "execution_count": null,
   "id": "39837d90-a246-4f6c-8b3d-3d18eeb3c3c6",
   "metadata": {},
   "outputs": [],
   "source": []
  }
 ],
 "metadata": {
  "kernelspec": {
   "display_name": "Python 3 (ipykernel)",
   "language": "python",
   "name": "python3"
  },
  "language_info": {
   "codemirror_mode": {
    "name": "ipython",
    "version": 3
   },
   "file_extension": ".py",
   "mimetype": "text/x-python",
   "name": "python",
   "nbconvert_exporter": "python",
   "pygments_lexer": "ipython3",
   "version": "3.13.5"
  }
 },
 "nbformat": 4,
 "nbformat_minor": 5
}
