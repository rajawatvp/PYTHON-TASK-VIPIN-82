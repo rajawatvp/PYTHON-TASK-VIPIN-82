{
 "cells": [
  {
   "cell_type": "code",
   "execution_count": 1,
   "id": "2be1dbe7-adc3-4c7e-94c4-ab00698f240e",
   "metadata": {},
   "outputs": [
    {
     "name": "stdout",
     "output_type": "stream",
     "text": [
      "nipiv\n"
     ]
    }
   ],
   "source": [
    "name  = \"vipin\"\n",
    "rev = \"\"\n",
    "for e in name:\n",
    "    rev = e+rev\n",
    "print(rev)"
   ]
  },
  {
   "cell_type": "code",
   "execution_count": 9,
   "id": "3132b009-dcfe-4c91-8328-4374fb0a7219",
   "metadata": {},
   "outputs": [
    {
     "name": "stdin",
     "output_type": "stream",
     "text": [
      " Enter your String here : vipin\n"
     ]
    },
    {
     "name": "stdout",
     "output_type": "stream",
     "text": [
      "i\n",
      "i\n"
     ]
    }
   ],
   "source": [
    "# write a programe \n",
    "# to print only vowel from the given string by user.\n",
    "\n",
    "string= input(\" Enter your String here :\")\n",
    "for i in string:\n",
    "    if i in \"aeiou\":\n",
    "        print(i)"
   ]
  },
  {
   "cell_type": "code",
   "execution_count": 13,
   "id": "49d96d13-3899-440b-be62-daaa0e46d0a7",
   "metadata": {},
   "outputs": [
    {
     "name": "stdout",
     "output_type": "stream",
     "text": [
      "outer loop\n",
      "inner loop\n",
      "very inner loop\n",
      "Last loop\n",
      "Last loop\n",
      "very inner loop\n",
      "Last loop\n",
      "Last loop\n",
      "very inner loop\n",
      "Last loop\n",
      "Last loop\n",
      "very inner loop\n",
      "Last loop\n",
      "Last loop\n",
      "inner loop\n",
      "very inner loop\n",
      "Last loop\n",
      "Last loop\n",
      "very inner loop\n",
      "Last loop\n",
      "Last loop\n",
      "very inner loop\n",
      "Last loop\n",
      "Last loop\n",
      "very inner loop\n",
      "Last loop\n",
      "Last loop\n",
      "inner loop\n",
      "very inner loop\n",
      "Last loop\n",
      "Last loop\n",
      "very inner loop\n",
      "Last loop\n",
      "Last loop\n",
      "very inner loop\n",
      "Last loop\n",
      "Last loop\n",
      "very inner loop\n",
      "Last loop\n",
      "Last loop\n",
      "outer loop\n",
      "inner loop\n",
      "very inner loop\n",
      "Last loop\n",
      "Last loop\n",
      "very inner loop\n",
      "Last loop\n",
      "Last loop\n",
      "very inner loop\n",
      "Last loop\n",
      "Last loop\n",
      "very inner loop\n",
      "Last loop\n",
      "Last loop\n",
      "inner loop\n",
      "very inner loop\n",
      "Last loop\n",
      "Last loop\n",
      "very inner loop\n",
      "Last loop\n",
      "Last loop\n",
      "very inner loop\n",
      "Last loop\n",
      "Last loop\n",
      "very inner loop\n",
      "Last loop\n",
      "Last loop\n",
      "inner loop\n",
      "very inner loop\n",
      "Last loop\n",
      "Last loop\n",
      "very inner loop\n",
      "Last loop\n",
      "Last loop\n",
      "very inner loop\n",
      "Last loop\n",
      "Last loop\n",
      "very inner loop\n",
      "Last loop\n",
      "Last loop\n",
      "outer loop\n",
      "inner loop\n",
      "very inner loop\n",
      "Last loop\n",
      "Last loop\n",
      "very inner loop\n",
      "Last loop\n",
      "Last loop\n",
      "very inner loop\n",
      "Last loop\n",
      "Last loop\n",
      "very inner loop\n",
      "Last loop\n",
      "Last loop\n",
      "inner loop\n",
      "very inner loop\n",
      "Last loop\n",
      "Last loop\n",
      "very inner loop\n",
      "Last loop\n",
      "Last loop\n",
      "very inner loop\n",
      "Last loop\n",
      "Last loop\n",
      "very inner loop\n",
      "Last loop\n",
      "Last loop\n",
      "inner loop\n",
      "very inner loop\n",
      "Last loop\n",
      "Last loop\n",
      "very inner loop\n",
      "Last loop\n",
      "Last loop\n",
      "very inner loop\n",
      "Last loop\n",
      "Last loop\n",
      "very inner loop\n",
      "Last loop\n",
      "Last loop\n",
      "outer loop\n",
      "inner loop\n",
      "very inner loop\n",
      "Last loop\n",
      "Last loop\n",
      "very inner loop\n",
      "Last loop\n",
      "Last loop\n",
      "very inner loop\n",
      "Last loop\n",
      "Last loop\n",
      "very inner loop\n",
      "Last loop\n",
      "Last loop\n",
      "inner loop\n",
      "very inner loop\n",
      "Last loop\n",
      "Last loop\n",
      "very inner loop\n",
      "Last loop\n",
      "Last loop\n",
      "very inner loop\n",
      "Last loop\n",
      "Last loop\n",
      "very inner loop\n",
      "Last loop\n",
      "Last loop\n",
      "inner loop\n",
      "very inner loop\n",
      "Last loop\n",
      "Last loop\n",
      "very inner loop\n",
      "Last loop\n",
      "Last loop\n",
      "very inner loop\n",
      "Last loop\n",
      "Last loop\n",
      "very inner loop\n",
      "Last loop\n",
      "Last loop\n",
      "outer loop\n",
      "inner loop\n",
      "very inner loop\n",
      "Last loop\n",
      "Last loop\n",
      "very inner loop\n",
      "Last loop\n",
      "Last loop\n",
      "very inner loop\n",
      "Last loop\n",
      "Last loop\n",
      "very inner loop\n",
      "Last loop\n",
      "Last loop\n",
      "inner loop\n",
      "very inner loop\n",
      "Last loop\n",
      "Last loop\n",
      "very inner loop\n",
      "Last loop\n",
      "Last loop\n",
      "very inner loop\n",
      "Last loop\n",
      "Last loop\n",
      "very inner loop\n",
      "Last loop\n",
      "Last loop\n",
      "inner loop\n",
      "very inner loop\n",
      "Last loop\n",
      "Last loop\n",
      "very inner loop\n",
      "Last loop\n",
      "Last loop\n",
      "very inner loop\n",
      "Last loop\n",
      "Last loop\n",
      "very inner loop\n",
      "Last loop\n",
      "Last loop\n"
     ]
    }
   ],
   "source": [
    "## Nested for Loop\n",
    "\n",
    "for i in range(1,6):\n",
    "    print(\"outer loop\")\n",
    "    for i in range(1,4):\n",
    "        print(\"inner loop\")\n",
    "        for j in range(1,5):\n",
    "            print(\"very inner loop\")\n",
    "            for k  in range(1,3):\n",
    "                print(\"Last loop\")"
   ]
  },
  {
   "cell_type": "code",
   "execution_count": 14,
   "id": "389679a8-8cfc-4ce0-abf4-9feda45336a9",
   "metadata": {},
   "outputs": [
    {
     "name": "stdout",
     "output_type": "stream",
     "text": [
      "1\n",
      "2\n",
      "3\n",
      "4\n",
      "5\n"
     ]
    }
   ],
   "source": [
    "# Break and Continue\n",
    "\n",
    "for i in range (1,11):\n",
    "    if i==6:\n",
    "        break\n",
    "    print(i)"
   ]
  },
  {
   "cell_type": "code",
   "execution_count": 107,
   "id": "60cb1c2b-6f18-4035-8548-17044c6f7a1b",
   "metadata": {},
   "outputs": [
    {
     "name": "stdin",
     "output_type": "stream",
     "text": [
      "Enter your character here : n\n"
     ]
    },
    {
     "name": "stdout",
     "output_type": "stream",
     "text": [
      "Founded\n"
     ]
    }
   ],
   "source": [
    "# wap to find a character present in string check character from the user input. \n",
    "str1 = \"Dreamer Infotech\"\n",
    "user = input(\"Enter your character here :\")#.lower()\n",
    "flag = 0\n",
    "\n",
    "if user in str1:\n",
    "    print(\"Founded\")\n",
    "else:\n",
    "    print(\"Not founded\")\n",
    "\n"
   ]
  },
  {
   "cell_type": "code",
   "execution_count": 44,
   "id": "3c174151-0f59-4468-bb97-edb9e1bba57e",
   "metadata": {},
   "outputs": [],
   "source": [
    "# # WAP to print all possible pairs with 1 to 4 \n",
    "# # like  1:1 \n",
    "#         1:2\n",
    "#         1:3\n",
    "#         1:4 and so on"
   ]
  },
  {
   "cell_type": "code",
   "execution_count": 68,
   "id": "27cce338-f352-4113-955a-3c377a1880f2",
   "metadata": {},
   "outputs": [
    {
     "name": "stdout",
     "output_type": "stream",
     "text": [
      "1:1\n",
      "1:2\n",
      "1:3\n",
      "1:4\n",
      "2:1\n",
      "2:2\n",
      "2:3\n",
      "2:4\n",
      "3:1\n",
      "3:2\n",
      "3:3\n",
      "3:4\n",
      "4:1\n",
      "4:2\n",
      "4:3\n",
      "4:4\n"
     ]
    }
   ],
   "source": [
    "for i in range (1,5): \n",
    "    for j in range (1,5):\n",
    "        print(f'{i}:{j}')\n",
    "    #print(f'{i}')\n",
    "        \n",
    "        \n",
    "    "
   ]
  },
  {
   "cell_type": "code",
   "execution_count": 98,
   "id": "087d0d9f-b20f-4d9c-b120-7c23d89844b4",
   "metadata": {},
   "outputs": [
    {
     "name": "stdin",
     "output_type": "stream",
     "text": [
      "enter the number : 4\n"
     ]
    },
    {
     "name": "stdout",
     "output_type": "stream",
     "text": [
      "1:1\n",
      "1:2\n",
      "1:3\n",
      "2:1\n",
      "2:2\n",
      "2:3\n",
      "3:1\n",
      "3:2\n",
      "3:3\n"
     ]
    }
   ],
   "source": [
    "a=int(input(\"enter the number :\"))\n",
    "a -=1 \n",
    "\n",
    "for i in range (1, a+1): \n",
    "    for j in range (1,a+1):\n",
    "        print(f'{i}:{j}')"
   ]
  },
  {
   "cell_type": "code",
   "execution_count": 92,
   "id": "ee3bf137-80da-457a-9390-43de838dc532",
   "metadata": {},
   "outputs": [
    {
     "name": "stdout",
     "output_type": "stream",
     "text": [
      "my name is vipin\n"
     ]
    }
   ],
   "source": [
    "text = \"my name is vipin\"\n",
    "records = {}\n",
    "#print(text)"
   ]
  },
  {
   "cell_type": "code",
   "execution_count": 95,
   "id": "4b0b7850-e0e8-4d8e-8b1c-1ed1e4f0e830",
   "metadata": {},
   "outputs": [],
   "source": [
    "for i in text:\n",
    "    count = text.count(i)\n",
    "    if i not in records.keys():\n",
    "        records.update({i:count})\n"
   ]
  },
  {
   "cell_type": "code",
   "execution_count": 96,
   "id": "cdb26e2f-ae69-4126-866f-bdd5fc8e61e5",
   "metadata": {},
   "outputs": [
    {
     "data": {
      "text/plain": [
       "{'m': 2,\n",
       " 'y': 1,\n",
       " ' ': 3,\n",
       " 'n': 2,\n",
       " 'a': 1,\n",
       " 'e': 1,\n",
       " 'i': 3,\n",
       " 's': 1,\n",
       " 'v': 1,\n",
       " 'p': 1}"
      ]
     },
     "execution_count": 96,
     "metadata": {},
     "output_type": "execute_result"
    }
   ],
   "source": [
    "records"
   ]
  },
  {
   "cell_type": "markdown",
   "id": "744154d2-3aef-4333-831f-6d418d0d8f0f",
   "metadata": {},
   "source": [
    "#### Date 7-8-2025"
   ]
  },
  {
   "cell_type": "code",
   "execution_count": 2,
   "id": "e1fe8af0-8c6a-4908-9aa4-ac43adbfeb5a",
   "metadata": {},
   "outputs": [],
   "source": [
    "# ## while loop  conditioned bsed loop:\n",
    "\n",
    "# 1. initial state \n",
    "# 2. condition state\n",
    "# 3. increament/decreament state\n",
    "\n"
   ]
  },
  {
   "cell_type": "code",
   "execution_count": null,
   "id": "b4b523bf-0d74-43f9-9082-7755b7abcdaf",
   "metadata": {},
   "outputs": [],
   "source": [
    "i=1\n",
    "while (i>)"
   ]
  }
 ],
 "metadata": {
  "kernelspec": {
   "display_name": "Python 3 (ipykernel)",
   "language": "python",
   "name": "python3"
  },
  "language_info": {
   "codemirror_mode": {
    "name": "ipython",
    "version": 3
   },
   "file_extension": ".py",
   "mimetype": "text/x-python",
   "name": "python",
   "nbconvert_exporter": "python",
   "pygments_lexer": "ipython3",
   "version": "3.13.5"
  }
 },
 "nbformat": 4,
 "nbformat_minor": 5
}
