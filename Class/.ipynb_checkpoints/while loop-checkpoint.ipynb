{
 "cells": [
  {
   "cell_type": "markdown",
   "id": "97c790ef-85c2-463e-bf48-7ce052b57674",
   "metadata": {},
   "source": [
    "#### Date 7-8-2025"
   ]
  },
  {
   "cell_type": "code",
   "execution_count": null,
   "id": "744c89af-c455-4e8f-a9c7-ac63058316c0",
   "metadata": {},
   "outputs": [],
   "source": [
    "# ## while loop  conditioned bsed loop:\n",
    "\n",
    "# 1. initial state \n",
    "# 2. condition state\n",
    "# 3. increament/decreament state\n",
    "\n"
   ]
  },
  {
   "cell_type": "code",
   "execution_count": null,
   "id": "5dadf368-7f5f-42f2-8fb0-8ba4f84d87dd",
   "metadata": {},
   "outputs": [],
   "source": [
    "i=1\n",
    "while (i<10): \n",
    "    print(i)\n",
    "    i=i+1"
   ]
  },
  {
   "cell_type": "code",
   "execution_count": null,
   "id": "379e937b-55a8-429e-9348-b4495b16ef03",
   "metadata": {},
   "outputs": [],
   "source": [
    "i=10\n",
    "while (i>=1):\n",
    "    print(i)\n",
    "    i-=3"
   ]
  },
  {
   "cell_type": "code",
   "execution_count": null,
   "id": "051056d4-1f66-4ce9-85ea-751e83d507d8",
   "metadata": {},
   "outputs": [],
   "source": [
    "# # WAP to print a table of a number taken by user as input\n",
    "\n",
    "# ex : 2 x 1 = 2\n"
   ]
  },
  {
   "cell_type": "code",
   "execution_count": null,
   "id": "77526468-235e-4511-997d-fd505b940fb9",
   "metadata": {},
   "outputs": [],
   "source": [
    "number = int(input(\"Enter the number\"))\n",
    "i= 1\n",
    "\n",
    "while (i<=10):\n",
    "    print(f\"{number} x {i} = {number*i}\")\n",
    "    i+=1 "
   ]
  },
  {
   "cell_type": "code",
   "execution_count": null,
   "id": "b75a9d25-e34a-4285-bd5c-ef4bc2c698e5",
   "metadata": {},
   "outputs": [],
   "source": [
    "## 1. WAP take start from user and end point from sum of all generated number.\n",
    "\n",
    "## 2. Print all odd numbers\n",
    "\n",
    "## 3. print sum of only even number\n",
    "\n",
    "## 4. print count of total number of even. "
   ]
  },
  {
   "cell_type": "code",
   "execution_count": null,
   "id": "7bc04964-4719-43db-8c54-b0db68b3128a",
   "metadata": {},
   "outputs": [],
   "source": [
    "start_num = int(input(\"Enter start number: \"))\n",
    "end_num = int(input(\"Enter end number: \"))\n",
    "\n",
    "sum_ = 0\n",
    "num = start_num\n",
    "while num<=end_num:\n",
    "    sum_ += num\n",
    "    num+=1\n",
    "\n",
    "    # if num%2!=0:\n",
    "    #     if num%2==0:\n",
    "    #         print(sum(num))\n",
    "    #     else:\n",
    "    #         print(f\"Odd numbers\")\n",
    "    \n",
    "    # else:\n",
    "        print(f\"even numbers are{num}\")\n",
    "print(f\"The sum of all numbers between {start_num} and {end_num} is: {sum_}\")\n",
    "        \n",
    "\n",
    "    "
   ]
  },
  {
   "cell_type": "code",
   "execution_count": null,
   "id": "9f8cfb53-70e7-4b26-ba0a-953623f424d5",
   "metadata": {},
   "outputs": [],
   "source": [
    "a=int(input(\"enter number 1\"))"
   ]
  },
  {
   "cell_type": "code",
   "execution_count": 5,
   "id": "c3361981-be99-4979-9fc5-48c081a144d3",
   "metadata": {},
   "outputs": [
    {
     "name": "stdout",
     "output_type": "stream",
     "text": [
      "11 13 15 17 19 21 23 25 27 29 \n",
      "200\n",
      "11\n"
     ]
    }
   ],
   "source": [
    "start= 10 \n",
    "end = 30\n",
    "even_count = 0\n",
    "my_odd = \"\"\n",
    "sum_of_all = 0\n",
    "\n",
    "while start<= end:\n",
    "    if start%2!=0:\n",
    "        sum_of_all+=start\n",
    "        my_odd+=str(start)+\" \"\n",
    "    else:\n",
    "        even_count+=1\n",
    "    start+=1 \n",
    "\n",
    "print(my_odd)\n",
    "print(sum_of_all)\n",
    "print(even_count)"
   ]
  },
  {
   "cell_type": "code",
   "execution_count": 6,
   "id": "fb6e3bc5-504c-4f92-8da9-81020f4e62cf",
   "metadata": {},
   "outputs": [
    {
     "name": "stdout",
     "output_type": "stream",
     "text": [
      "iiiooeooethssmystrngfrvwlcnsnnt\n"
     ]
    }
   ],
   "source": [
    "str1 = \"thisismystringforvowelconsonent\"\n",
    "vowel,cons = \"\",\"\"\n",
    "for i in str1: \n",
    "    if i in \"aeiouAEIOU\": \n",
    "        vowel+=i\n",
    "    else:\n",
    "        cons+=i\n",
    "print(vowel+cons)"
   ]
  },
  {
   "cell_type": "code",
   "execution_count": null,
   "id": "0b55b673-40b9-4ebc-8dfe-fe453b87fe5f",
   "metadata": {},
   "outputs": [],
   "source": [
    "# WAP to check string is palindrom or not. \n",
    "\n",
    "string = input(\"Enter the string:\").lower()\n",
    "\n",
    "start = 0\n",
    "rev = len(string)-1\n",
    "palindrom = True\n",
    "\n",
    "while start < rev :\n",
    "    if string[start] != string[rev]: \n",
    "        palindrom = False\n",
    "        break\n",
    "    start+=1\n",
    "    rev-=1\n",
    "\n",
    "if palindrom: \n",
    "    print(f\"The string {string} is Palindrom \")\n",
    "\n",
    "else: \n",
    "    print(f\" The string {string} is not Palindrom\")\n",
    "    \n"
   ]
  },
  {
   "cell_type": "markdown",
   "id": "dad370e0-b08a-4a5e-b3c2-76438a6031ab",
   "metadata": {},
   "source": [
    "### Practice program"
   ]
  },
  {
   "cell_type": "code",
   "execution_count": 4,
   "id": "bb332764-36ad-4636-855c-23c11c29fe6f",
   "metadata": {},
   "outputs": [
    {
     "name": "stdin",
     "output_type": "stream",
     "text": [
      "Enter the number of days you borrow the book  16\n"
     ]
    },
    {
     "name": "stdout",
     "output_type": "stream",
     "text": [
      "You have to pay Ruppes 50 for this book \n",
      "For 16 days\n"
     ]
    }
   ],
   "source": [
    "days = int(input(\"Enter the number of days you borrow the book \"))\n",
    "\n",
    "\n",
    "if days <= 5:\n",
    "    charge = days*2\n",
    "    print(f\"You have to pay Ruppes {charge} for this book \\nFor {days} days\")\n",
    "\n",
    "elif days>5 and days <=10:\n",
    "    charge = 10 + (days-5)*3\n",
    "    print(f\"You have to pay Ruppes {charge} for this book \\nFor {days} days\")\n",
    "\n",
    "elif days>10 and days<=15: \n",
    "    charge =25 + (days-10)*4\n",
    "    print(f\"You have to pay Ruppes {charge} for this book \\nFor {days} days\")\n",
    "\n",
    "else:\n",
    "    days >15\n",
    "    charge =45 + (days-15)*5\n",
    "    print(f\"You have to pay Ruppes {charge} for this book \\nFor {days} days\")\n"
   ]
  },
  {
   "cell_type": "code",
   "execution_count": null,
   "id": "f2379fa4-ec7c-43b6-9b6f-80cf3e6c2b64",
   "metadata": {},
   "outputs": [],
   "source": [
    "###### "
   ]
  },
  {
   "cell_type": "code",
   "execution_count": null,
   "id": "e469ffa6-6433-44ca-b7be-b4fc3896ad98",
   "metadata": {},
   "outputs": [],
   "source": []
  }
 ],
 "metadata": {
  "kernelspec": {
   "display_name": "Python 3 (ipykernel)",
   "language": "python",
   "name": "python3"
  },
  "language_info": {
   "codemirror_mode": {
    "name": "ipython",
    "version": 3
   },
   "file_extension": ".py",
   "mimetype": "text/x-python",
   "name": "python",
   "nbconvert_exporter": "python",
   "pygments_lexer": "ipython3",
   "version": "3.13.5"
  }
 },
 "nbformat": 4,
 "nbformat_minor": 5
}
