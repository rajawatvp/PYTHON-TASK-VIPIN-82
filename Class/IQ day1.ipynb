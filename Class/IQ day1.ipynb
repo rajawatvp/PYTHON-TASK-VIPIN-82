{
 "cells": [
  {
   "cell_type": "markdown",
   "id": "9075415e-d544-47c8-8151-f5b7c27bb927",
   "metadata": {},
   "source": [
    "#### Data Types"
   ]
  },
  {
   "cell_type": "code",
   "execution_count": 1,
   "id": "1e37929b-704a-4b36-a31d-be67af414279",
   "metadata": {},
   "outputs": [],
   "source": [
    "# Integer\n",
    "#Float\n",
    "#String\n",
    "#Boolean"
   ]
  },
  {
   "cell_type": "code",
   "execution_count": 2,
   "id": "38ef2352-3534-4665-bca4-cf6ea8346767",
   "metadata": {},
   "outputs": [
    {
     "name": "stdin",
     "output_type": "stream",
     "text": [
      "enter the first number :  23\n",
      "enter the second number :  34\n"
     ]
    },
    {
     "name": "stdout",
     "output_type": "stream",
     "text": [
      "57\n"
     ]
    }
   ],
   "source": [
    "num1 = int(input(\"enter the first number : \"))\n",
    "num2 = int(input(\"enter the second number : \"))\n",
    "summition = num1+num2\n",
    "print(summition)"
   ]
  },
  {
   "cell_type": "code",
   "execution_count": 2,
   "id": "712c18de-64dd-4e7a-98eb-0126de8cfa0d",
   "metadata": {},
   "outputs": [
    {
     "name": "stdout",
     "output_type": "stream",
     "text": [
      "66.47\n"
     ]
    }
   ],
   "source": [
    "num1 = 20.67\n",
    "num2 = 45.8\n",
    "\n",
    "cont = num1+num2\n",
    "\n",
    "print(cont)"
   ]
  },
  {
   "cell_type": "code",
   "execution_count": 3,
   "id": "b77c62a1-2dd0-4b95-8233-2b063e2ff958",
   "metadata": {},
   "outputs": [
    {
     "name": "stdout",
     "output_type": "stream",
     "text": [
      "<class 'float'>\n"
     ]
    }
   ],
   "source": [
    "print(type(cont))"
   ]
  },
  {
   "cell_type": "code",
   "execution_count": 7,
   "id": "f188b25e-7fc6-4cff-99bf-cdf900679fd4",
   "metadata": {},
   "outputs": [
    {
     "name": "stdout",
     "output_type": "stream",
     "text": [
      "This string is only for 'test' case\n",
      "This is also a \"test case\" .\n"
     ]
    }
   ],
   "source": [
    "text = \"This string is only for 'test' case\" ## when we have to highlight something we will use ' ' in the string.\n",
    "text1='''This is also a \"test case\" .'''\n",
    "\n",
    "print(text)\n",
    "print(text1)"
   ]
  },
  {
   "cell_type": "markdown",
   "id": "b89bedb2-19ff-4a68-b285-5d42f02cacb4",
   "metadata": {},
   "source": [
    "#### Note-\n",
    "we can not use `Double or Triple Quote` inside the single quote if we will do so it will throw the error."
   ]
  },
  {
   "cell_type": "code",
   "execution_count": 6,
   "id": "9f37f92b-d190-4a71-814d-bcf1e90c32a2",
   "metadata": {},
   "outputs": [
    {
     "name": "stdin",
     "output_type": "stream",
     "text": [
      "Enter the number 6759987654876\n"
     ]
    },
    {
     "name": "stdout",
     "output_type": "stream",
     "text": [
      " The last digit of num is: 6\n"
     ]
    }
   ],
   "source": [
    "num = int(input(\"Enter the number\")) \n",
    "res = num%10\n",
    "\n",
    "print(\" The last digit of num is:\", res)\n"
   ]
  },
  {
   "cell_type": "code",
   "execution_count": 9,
   "id": "8f7ad8ee-0463-438d-93cf-54fdcfcbb491",
   "metadata": {},
   "outputs": [
    {
     "name": "stdin",
     "output_type": "stream",
     "text": [
      "Enter the number 7979878968\n"
     ]
    },
    {
     "name": "stdout",
     "output_type": "stream",
     "text": [
      "The last digit of 7979878968 is: 8\n"
     ]
    }
   ],
   "source": [
    "num = int(input(\"Enter the number\")) \n",
    "res = num%10\n",
    "\n",
    "print(f\"The last digit of {num} is: {res}\")"
   ]
  },
  {
   "cell_type": "code",
   "execution_count": 13,
   "id": "386c929c-c9e7-4a92-b004-fd47afb848fb",
   "metadata": {},
   "outputs": [
    {
     "name": "stdout",
     "output_type": "stream",
     "text": [
      "45\n"
     ]
    }
   ],
   "source": [
    "a==45\n",
    "b==67\n",
    "\n",
    "print(a)"
   ]
  },
  {
   "cell_type": "code",
   "execution_count": 5,
   "id": "320c0c1a-e4a5-40b8-8827-9b14c3c12226",
   "metadata": {},
   "outputs": [
    {
     "name": "stdout",
     "output_type": "stream",
     "text": [
      "79\n"
     ]
    }
   ],
   "source": [
    "a = 45\n",
    "b = 34\n",
    "adition = a+b\n",
    "print(adition)"
   ]
  },
  {
   "cell_type": "code",
   "execution_count": null,
   "id": "137300d6-aa8e-4ba0-8808-6561fc68beee",
   "metadata": {},
   "outputs": [],
   "source": [
    "text = input(\"this is sample text\")"
   ]
  },
  {
   "cell_type": "code",
   "execution_count": 6,
   "id": "f413b172-8c11-47f7-9751-6b3cdddba8d0",
   "metadata": {},
   "outputs": [],
   "source": [
    "# write a program to print the last digit of a number given by user"
   ]
  },
  {
   "cell_type": "code",
   "execution_count": 15,
   "id": "6cd30e6c-35c1-412d-994e-13b0eed07974",
   "metadata": {
    "scrolled": true
   },
   "outputs": [
    {
     "name": "stdin",
     "output_type": "stream",
     "text": [
      "enter the number 3456\n"
     ]
    },
    {
     "name": "stdout",
     "output_type": "stream",
     "text": [
      "6\n"
     ]
    }
   ],
   "source": [
    "num = int(input(\"enter the number\"))\n",
    "result = num %10\n",
    "print(\"The last digit of\" num, \"is :\",result)\n",
    "print"
   ]
  },
  {
   "cell_type": "code",
   "execution_count": 4,
   "id": "bc3aae62-cc29-45e9-be80-58a115238f41",
   "metadata": {},
   "outputs": [
    {
     "name": "stdout",
     "output_type": "stream",
     "text": [
      "50\n",
      "-10\n",
      "600\n",
      "1073741824000000000000000000000000000000\n",
      "20\n"
     ]
    }
   ],
   "source": [
    "n1 = 20\n",
    "n2 = 30\n",
    "\n",
    "res1 = n1 + n2  # Addition\n",
    "res2 = n1 - n2  # Subtraction\n",
    "res3 = n1 * n2  # Multiplication\n",
    "res4 = n1 ** n2 # Expotential\n",
    "res5 = n1%n2    # Devidation\n",
    "\n",
    "print(res1)\n",
    "print(res2)\n",
    "print(res3)\n",
    "print(res4)\n",
    "print(res5)"
   ]
  },
  {
   "cell_type": "code",
   "execution_count": 6,
   "id": "ae454d89-6999-4044-9f49-5031d5edcbce",
   "metadata": {},
   "outputs": [
    {
     "name": "stdout",
     "output_type": "stream",
     "text": [
      "True\n",
      "False\n",
      "False\n",
      "True\n",
      "False\n",
      "True\n"
     ]
    }
   ],
   "source": [
    "#2 Relational operator\n",
    "\n",
    "user1_age = 50\n",
    "user2_age = 40\n",
    "\n",
    "res_1 = user1_age>user2_age\n",
    "res_2 = user1_age==user2_age\n",
    "res_3 = user1_age<user2_age\n",
    "res_4 = user1_age>=user2_age\n",
    "res_5 = user1_age<=user2_age\n",
    "res_6 = user1_age!=user2_age\n",
    "\n",
    "print(res_1)\n",
    "print(res_2)\n",
    "print(res_3)\n",
    "print(res_4)\n",
    "print(res_5)\n",
    "print(res_6)"
   ]
  },
  {
   "cell_type": "code",
   "execution_count": 12,
   "id": "f02e7cbd-94b5-4998-b8d4-682404ec6180",
   "metadata": {},
   "outputs": [
    {
     "name": "stdout",
     "output_type": "stream",
     "text": [
      "8\n",
      "6\n",
      "10\n",
      "5.0\n"
     ]
    }
   ],
   "source": [
    "# Addition Assignment (+=)\n",
    "x = 5\n",
    "x += 3  # Equivalent to x = x + 3\n",
    "print(x) # Output: 8\n",
    "\n",
    "# Subtraction Assignment (-=)\n",
    "y = 10\n",
    "y -= 4  # Equivalent to y = y - 4\n",
    "print(y) # Output: 6\n",
    "\n",
    "# Multiplication Assignment (*=)\n",
    "z = 2\n",
    "z *= 5  # Equivalent to z = z * 5\n",
    "print(z) # Output: 10\n",
    "\n",
    "# Division Assignment (/=)\n",
    "a = 20\n",
    "a /= 4  # Equivalent to a = a / 4\n",
    "print(a) # Output: 5.0\n"
   ]
  },
  {
   "cell_type": "code",
   "execution_count": 6,
   "id": "2d1245e1-9e89-4530-bb5f-de95ad3a51f4",
   "metadata": {},
   "outputs": [
    {
     "name": "stdout",
     "output_type": "stream",
     "text": [
      "True\n",
      "False\n"
     ]
    }
   ],
   "source": [
    "# Membership operator\n",
    "# note - this operator can not use in numerical values.\n",
    "# this will work only when we search any value in sequence.\n",
    "\n",
    "num = '68586'\n",
    "res = '86' in num\n",
    "\n",
    "print(res)\n",
    "\n",
    "text = 'india'\n",
    "res = 'di' not in text\n",
    "\n",
    "print(res)"
   ]
  },
  {
   "cell_type": "code",
   "execution_count": 1,
   "id": "77e1a565-a80e-4a3a-8221-f9d3e23ae6fe",
   "metadata": {
    "scrolled": true
   },
   "outputs": [
    {
     "name": "stdout",
     "output_type": "stream",
     "text": [
      "False\n"
     ]
    }
   ],
   "source": [
    "# Identity operator (is,is not)\n",
    "\n",
    "a = 1000\n",
    "b = 1000\n",
    "\n",
    "res =a is b\n",
    "print(res)\n",
    "\n",
    "## The memory size of variable \"a\" is not same as memory size of variavle \"b\". "
   ]
  },
  {
   "cell_type": "code",
   "execution_count": 2,
   "id": "0845df6e-7a78-43ab-815a-292b23d03ac4",
   "metadata": {},
   "outputs": [
    {
     "name": "stdout",
     "output_type": "stream",
     "text": [
      "True\n"
     ]
    }
   ],
   "source": [
    "a = 'python'\n",
    "b = 'python'\n",
    "\n",
    "res = a is b\n",
    "\n",
    "print(res)\n",
    "\n",
    "## when the variable assress are same the o/p return as TRUE if it does not do so then we will get FALSE.\n",
    "## identity operator is not working on the value of variable it is work on the memory size of variable."
   ]
  },
  {
   "cell_type": "code",
   "execution_count": 13,
   "id": "9142fb86-8465-434f-9a26-87c0620e571c",
   "metadata": {},
   "outputs": [
    {
     "name": "stdout",
     "output_type": "stream",
     "text": [
      "6\n",
      "6\n"
     ]
    }
   ],
   "source": [
    "a = 'python'\n",
    "b = 'python'\n",
    "\n",
    "print(len(a))\n",
    "print(len(b))"
   ]
  },
  {
   "cell_type": "code",
   "execution_count": 3,
   "id": "b4bab91d-56fa-42a4-b205-ef54215d3575",
   "metadata": {},
   "outputs": [
    {
     "name": "stdout",
     "output_type": "stream",
     "text": [
      "Both conditions are True\n",
      "At least one condition is True\n",
      "a is NOT greater than 15\n"
     ]
    }
   ],
   "source": [
    "# Let's define two simple conditions:\n",
    "a = 10\n",
    "b = 20\n",
    "\n",
    "# Logical AND: True only if both conditions are True\n",
    "if a < 15 and b > 15:\n",
    "    print(\"Both conditions are True\")  # This will print because a<15 and b>15\n",
    "\n",
    "# Logical OR: True if at least one condition is True\n",
    "if a > 15 or b > 15:\n",
    "    print(\"At least one condition is True\")  # This will print because b>15\n",
    "\n",
    "# Logical NOT: Reverses the condition (True becomes False, False becomes True)\n",
    "if not a > 15:\n",
    "    print(\"a is NOT greater than 15\")  # This will print because a=10 is not >15\n"
   ]
  },
  {
   "cell_type": "code",
   "execution_count": 14,
   "id": "685573f9-c490-4a55-92fb-f834aa823e39",
   "metadata": {},
   "outputs": [
    {
     "name": "stdout",
     "output_type": "stream",
     "text": [
      "0\n"
     ]
    }
   ],
   "source": [
    "# bitwise operator (&,|,^,<<,>>)\n",
    "\n",
    "a = 4\n",
    "b = 2\n",
    "\n",
    "res = a & b\n",
    "print(res)"
   ]
  },
  {
   "cell_type": "code",
   "execution_count": 15,
   "id": "2df468a9-e82e-4ff9-9dea-5deb675b1d45",
   "metadata": {},
   "outputs": [
    {
     "name": "stdout",
     "output_type": "stream",
     "text": [
      "2\n"
     ]
    }
   ],
   "source": [
    "a = 3\n",
    "b = 2\n",
    "\n",
    "res = a & b\n",
    "print(res)"
   ]
  },
  {
   "cell_type": "code",
   "execution_count": 2,
   "id": "81c963ae-215d-4e9e-8ac9-6607f5478cf4",
   "metadata": {},
   "outputs": [
    {
     "name": "stdin",
     "output_type": "stream",
     "text": [
      "enter the data here dsfd\n"
     ]
    },
    {
     "name": "stdout",
     "output_type": "stream",
     "text": [
      "<class 'str'>\n"
     ]
    }
   ],
   "source": [
    "a= input(\"enter the data here\")\n",
    "print(type(a))"
   ]
  },
  {
   "cell_type": "code",
   "execution_count": null,
   "id": "d39f1c6c-6537-4c89-b4da-107e2516725f",
   "metadata": {},
   "outputs": [],
   "source": []
  }
 ],
 "metadata": {
  "kernelspec": {
   "display_name": "Python 3 (ipykernel)",
   "language": "python",
   "name": "python3"
  },
  "language_info": {
   "codemirror_mode": {
    "name": "ipython",
    "version": 3
   },
   "file_extension": ".py",
   "mimetype": "text/x-python",
   "name": "python",
   "nbconvert_exporter": "python",
   "pygments_lexer": "ipython3",
   "version": "3.13.5"
  }
 },
 "nbformat": 4,
 "nbformat_minor": 5
}
