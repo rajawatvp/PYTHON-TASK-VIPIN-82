{
 "cells": [
  {
   "cell_type": "markdown",
   "id": "4e6092c2-35ee-446d-a43e-f8d4d3ffdab3",
   "metadata": {},
   "source": [
    "#### Conditional statement"
   ]
  },
  {
   "cell_type": "code",
   "execution_count": 1,
   "id": "57d2956a-2d3b-406e-9d3e-56069cdf200f",
   "metadata": {},
   "outputs": [],
   "source": [
    "#1. if else\n",
    "#2. multiple if \n",
    "#3. if elif else \n",
    "#4. multiple if elif else. \n",
    "#5. chaining of if else (nesting, ladder)"
   ]
  },
  {
   "cell_type": "code",
   "execution_count": 1,
   "id": "c13ada7e-dd69-4f84-9691-621a66120c61",
   "metadata": {},
   "outputs": [
    {
     "name": "stdout",
     "output_type": "stream",
     "text": [
      "Correct\n"
     ]
    }
   ],
   "source": [
    "a = 40\n",
    "b = 35\n",
    "res = a>b\n",
    "\n",
    "if(res==True):\n",
    "    print(\"Correct\")\n",
    "\n",
    "else:\n",
    "    print(\"Incorrect\")"
   ]
  },
  {
   "cell_type": "code",
   "execution_count": 5,
   "id": "6bd694fc-b79b-49e3-b604-58772c124d27",
   "metadata": {},
   "outputs": [
    {
     "name": "stdout",
     "output_type": "stream",
     "text": [
      "han hai\n"
     ]
    }
   ],
   "source": [
    "a = 40\n",
    "b = 35\n",
    "\n",
    "if(res==True):\n",
    "    print(\"han hai\")\n",
    "\n",
    "else:\n",
    "    print(\"nahi aayega\")"
   ]
  },
  {
   "cell_type": "code",
   "execution_count": 6,
   "id": "fef05d23-03df-48b6-b3c6-d08a32edf580",
   "metadata": {},
   "outputs": [],
   "source": [
    "## write a program to check the number is odd or even and take the input from user"
   ]
  },
  {
   "cell_type": "code",
   "execution_count": 7,
   "id": "be999e14-4322-4f46-82a4-9c9e9a084a98",
   "metadata": {},
   "outputs": [
    {
     "name": "stdin",
     "output_type": "stream",
     "text": [
      "Enter the number : 5\n"
     ]
    },
    {
     "name": "stdout",
     "output_type": "stream",
     "text": [
      "Number is odd\n"
     ]
    }
   ],
   "source": [
    "number = int(input(\"Enter the number :\"))\n",
    "\n",
    "if number%2 == 0:\n",
    "    print(\"Number is even\")\n",
    "\n",
    "else:\n",
    "    print(\"Number is odd\")\n",
    "    "
   ]
  },
  {
   "cell_type": "code",
   "execution_count": 14,
   "id": "ecdae959-e404-4a7a-b4ad-4934141474bd",
   "metadata": {
    "scrolled": true
   },
   "outputs": [
    {
     "name": "stdin",
     "output_type": "stream",
     "text": [
      "Enter the number : 36\n"
     ]
    },
    {
     "name": "stdout",
     "output_type": "stream",
     "text": [
      "Number 36 is devided by 3 and 6\n"
     ]
    }
   ],
   "source": [
    "#write a programe to chck number is devided by 3 and 6\n",
    "\n",
    "\n",
    "number = int(input(\"Enter the number :\"))\n",
    "\n",
    "if number%3==0 and number%6 ==0:\n",
    "    print(f\"Number {number} is devided by 3 and 6\")\n",
    "\n",
    "else:\n",
    "    print(f\"Number {number} is not devided by 3 and 6\")"
   ]
  },
  {
   "cell_type": "code",
   "execution_count": null,
   "id": "de3c64f7-71c5-4cd0-a434-8c0a3c6fa3d2",
   "metadata": {},
   "outputs": [],
   "source": [
    "# Multiple if"
   ]
  },
  {
   "cell_type": "code",
   "execution_count": 2,
   "id": "16266b89-1dd0-4534-ac52-7c8d2d19f54d",
   "metadata": {},
   "outputs": [
    {
     "name": "stdout",
     "output_type": "stream",
     "text": [
      "yes1\n"
     ]
    }
   ],
   "source": [
    "z= 300\n",
    "if z>100:\n",
    "    print(\"yes1\")\n",
    "if z>500:\n",
    "    print(\"yes2\")\n",
    "    "
   ]
  },
  {
   "cell_type": "code",
   "execution_count": 3,
   "id": "5eee31da-3803-4122-a4cb-b1c84cb17fa0",
   "metadata": {},
   "outputs": [
    {
     "name": "stdin",
     "output_type": "stream",
     "text": [
      "Enter the first number 45\n",
      "Enter the second number 454\n",
      "Enter the third number 6\n"
     ]
    },
    {
     "name": "stdout",
     "output_type": "stream",
     "text": [
      "print b is greatest\n"
     ]
    }
   ],
   "source": [
    "# write a programe to take the three numbers from user \n",
    "# To find the gratest number among three of them.\n",
    "\n",
    "\n",
    "a= int(input(\"Enter the first number\"))\n",
    "b= int(input(\"Enter the second number\"))\n",
    "c= int(input(\"Enter the third number\"))\n",
    "\n",
    "if a>b:\n",
    "    print(\"a is the greatest\")\n",
    "elif b>c:\n",
    "    print(\"print b is greatest\")\n",
    "\n",
    "else:\n",
    "    print(\"c is greatest\")\n",
    "    "
   ]
  },
  {
   "cell_type": "code",
   "execution_count": 25,
   "id": "e347eb5e-81a1-40d7-a2c7-dff90021bb0a",
   "metadata": {},
   "outputs": [
    {
     "name": "stdin",
     "output_type": "stream",
     "text": [
      "Enter the first number 1\n"
     ]
    },
    {
     "name": "stdout",
     "output_type": "stream",
     "text": [
      "This number is NOT devided by 3 and 6\n"
     ]
    }
   ],
   "source": [
    "# write a programe to find -\n",
    "# if number is devide by 3 print number is divisible by 3.\n",
    "# if number is devide by 6 print number is divisible by 6.\n",
    "# if number is devide by 3 and 6 print number is divisible by 3 and 6.\n",
    "# if number is NOT devide by 3 and 6 print number is NOY divisible by 3 and 6.\n",
    "\n",
    "\n",
    "num= int(input(\"Enter the first number\"))\n",
    "\n",
    "if num%3==0:\n",
    "    print(\"This number is devided by 3\")\n",
    "if num%6==0:\n",
    "    print(\"This number is devided by 6\")\n",
    "if num%3==0 and num%6==0:\n",
    "    print(\"This number is devided by 3 and 6\")\n",
    "if num%3!=0 and num%6!=0:\n",
    "    print(\"This number is NOT devided by 3 and 6\")\n",
    "\n",
    "else:\n",
    "    print(\"Number is Invalid\")\n"
   ]
  },
  {
   "cell_type": "code",
   "execution_count": 130,
   "id": "78205e4b-4b56-497a-b356-4401e7cfb652",
   "metadata": {},
   "outputs": [
    {
     "name": "stdin",
     "output_type": "stream",
     "text": [
      "Enter the name 20\n",
      "Enter the Age 20\n"
     ]
    },
    {
     "name": "stdout",
     "output_type": "stream",
     "text": [
      "You are not eligible due to Age\n"
     ]
    }
   ],
   "source": [
    "Name = input(\"Enter the name\")\n",
    "if Name.isalpha()==False:\n",
    "    Age = int(input(\"Enter the Age\"))\n",
    "    if Age >= 21 and Age <= 40:\n",
    "        Nationality = input(\"Enter the Nationality\")\n",
    "        if Nationality.lower() == \"indian\":\n",
    "            pre_marks = int(input(\"Enter the Pre marks\"))\n",
    "            if pre_marks >= 180 and pre_marks <400:\n",
    "                mains_marks = int(input(\"Enter the Mains marks\"))\n",
    "                if mains_marks >= 580 and mains_marks <900:\n",
    "                    interview_marks = int(input(\"Enter the Interview marks\"))\n",
    "                    if interview_marks >= 80 and interview_marks <175:\n",
    "                        total = pre_marks + mains_marks + interview_marks\n",
    "                        print(\"Total Marks:\", total)\n",
    "                        if total > 850:\n",
    "                            print(\"You are qualified for the Final Merit\")\n",
    "                        else:\n",
    "                            print(\"You are not qualified for the Final Merit\")\n",
    "                    else:\n",
    "                        print(\"You have not cleared your Interview\")\n",
    "                else:\n",
    "                    print(\"You are not qualified in Mains\")\n",
    "            else:\n",
    "                print(\"You are not qualified for Mains\")\n",
    "        else:\n",
    "            print(\"You are not eligible due to Nationality\")\n",
    "    else:\n",
    "        print(\"You are not eligible due to Age\")\n",
    "else:\n",
    "    print(\"Invalid Name\")\n"
   ]
  },
  {
   "cell_type": "code",
   "execution_count": null,
   "id": "f6fe2727-1c84-4011-8fb6-92556cea9d28",
   "metadata": {},
   "outputs": [],
   "source": [
    "# a software company evaluates job candidates based on three test :\n",
    "# aptitude test\n",
    "# technical test\n",
    "# HR interview \n",
    "\n",
    "# the selection criteria are follows-\n",
    "# if the candidate score more than 70 in all three tests then they are selected \n",
    "\n",
    "# OR \n",
    "# if the candidate score more than 70 in only 2 test they are on hold\n",
    "# OR\n",
    "# if the candidate score more than 70 in only one or none of the test they are rejected.\n"
   ]
  },
  {
   "cell_type": "code",
   "execution_count": 101,
   "id": "5536bfb6-edfa-47fb-819f-1031ed3eeea2",
   "metadata": {},
   "outputs": [
    {
     "name": "stdin",
     "output_type": "stream",
     "text": [
      "Enter your aptitude marks 78\n",
      "Enter the technical test marks 34\n",
      "Enter the HR round marks 87\n"
     ]
    },
    {
     "name": "stdout",
     "output_type": "stream",
     "text": [
      "you are on hold\n"
     ]
    }
   ],
   "source": [
    "apt_test_marks = int(input(\"Enter your aptitude marks\"))\n",
    "tech_test = int(input(\"Enter the technical test marks\"))\n",
    "HR_intr = int(input(\"Enter the HR round marks\"))\n",
    "\n",
    "if apt_test_marks >70 :\n",
    "    if tech_test >70:\n",
    "        if HR_intr >70:\n",
    "            print(\"Congrarulations you are selected\")\n",
    "        else:\n",
    "            print(\"You are on hold\")\n",
    "\n",
    "    else:\n",
    "        if HR_intr >70:\n",
    "            print(\"you are on hold\")\n",
    "        else:\n",
    "            print(\" You are rejected \")\n",
    "\n",
    "else:\n",
    "    if tech_test >70:\n",
    "        if HR_intr >70:\n",
    "             print(\"you are on hold \")\n",
    "        else:\n",
    "            print(\"You are rejected \")\n",
    "\n",
    "    else:\n",
    "        print(\" You are Rejected \")          "
   ]
  },
  {
   "cell_type": "code",
   "execution_count": 100,
   "id": "54a044a4-0d3c-48c7-9a0a-38635db430b5",
   "metadata": {},
   "outputs": [],
   "source": [
    "# Question 3: Electricity Bill Category\n",
    "\n",
    "\n",
    "# An electricity board categorizes usage based on units:\n",
    "# If usage is less than 100, print \"Low Usage\".\n",
    "# If usage is between 100 and 300, check:\n",
    "# If units are divisible by 10, print \"Moderate - Efficient Usage\".\n",
    "# Else print \"Moderate Usage\".\n",
    "# If usage is more than 300, print \"High Usage\".\n",
    "# Write a program only using nested if-else.\n",
    "# Note : WITHOUT USING LOGICAL OPERATORS"
   ]
  },
  {
   "cell_type": "code",
   "execution_count": 129,
   "id": "eeea50ce-62b3-4fcf-8754-3002c9939013",
   "metadata": {},
   "outputs": [
    {
     "name": "stdin",
     "output_type": "stream",
     "text": [
      "Enter the Unit consume 565\n"
     ]
    },
    {
     "name": "stdout",
     "output_type": "stream",
     "text": [
      "High Usage\n"
     ]
    }
   ],
   "source": [
    "# An electricity board categorizes usage based on units:\n",
    "# If usage is less than 100, print \"Low Usage\".\n",
    "# If usage is between 100 and 300, check:\n",
    "# If units are divisible by 10, print \"Moderate - Efficient Usage\".\n",
    "# Else print \"Moderate Usage\".\n",
    "# If usage is more than 300, print \"High Usage\".\n",
    "# Write a program only using nested if-else.\n",
    "# Note : WITHOUT USING LOGICAL OPERATORS\n",
    "\n",
    "uses_unit = int(input(\"Enter the Unit consume\"))\n",
    "\n",
    "if uses_unit < 100:\n",
    "    print(\"Low Usage\")   \n",
    "\n",
    "else:\n",
    "    if uses_unit >=100:\n",
    "        if uses_unit <=300:\n",
    "            consumpsion = uses_unit%10==0\n",
    "            print(\"Moderate - Efficient Usage\")\n",
    "            \n",
    "        else:\n",
    "            if uses_unit > 300:\n",
    "                print(\"High Usage\")\n",
    "            else:\n",
    "                print(\"Moderate Usage\")\n",
    "       "
   ]
  },
  {
   "cell_type": "code",
   "execution_count": 4,
   "id": "c25a71c6-97fc-4443-a89c-bb664fa6da4b",
   "metadata": {},
   "outputs": [
    {
     "name": "stdin",
     "output_type": "stream",
     "text": [
      "Enter your marks:  65\n"
     ]
    },
    {
     "name": "stdout",
     "output_type": "stream",
     "text": [
      "Grade: C\n"
     ]
    }
   ],
   "source": [
    "# Write a Python program \n",
    "# To input student marks and assign grades based on the score.\n",
    "\n",
    "marks = int(input(\"Enter your marks: \"))\n",
    "\n",
    "if marks >= 90:\n",
    "    print(\"Grade: A\")\n",
    "elif marks >= 75:\n",
    "    print(\"Grade: B\")\n",
    "elif marks >= 60:\n",
    "    print(\"Grade: C\")\n",
    "elif marks >= 40:\n",
    "    print(\"Grade: D\")\n",
    "else:\n",
    "    print(\"Grade: F (Fail)\")\n"
   ]
  },
  {
   "cell_type": "code",
   "execution_count": null,
   "id": "6826898b-5c4f-486a-bc8e-55e6c5dc6313",
   "metadata": {},
   "outputs": [],
   "source": []
  },
  {
   "cell_type": "code",
   "execution_count": null,
   "id": "994e4a0f-061e-421a-9df0-54f5247f7fbc",
   "metadata": {},
   "outputs": [],
   "source": []
  },
  {
   "cell_type": "code",
   "execution_count": null,
   "id": "3095ebf4-a79a-4aa4-ad1e-67994f4b09cf",
   "metadata": {},
   "outputs": [],
   "source": []
  },
  {
   "cell_type": "code",
   "execution_count": null,
   "id": "cbc3b563-b533-4883-84e7-d14cad71c608",
   "metadata": {},
   "outputs": [],
   "source": []
  }
 ],
 "metadata": {
  "kernelspec": {
   "display_name": "Python 3 (ipykernel)",
   "language": "python",
   "name": "python3"
  },
  "language_info": {
   "codemirror_mode": {
    "name": "ipython",
    "version": 3
   },
   "file_extension": ".py",
   "mimetype": "text/x-python",
   "name": "python",
   "nbconvert_exporter": "python",
   "pygments_lexer": "ipython3",
   "version": "3.13.5"
  }
 },
 "nbformat": 4,
 "nbformat_minor": 5
}
